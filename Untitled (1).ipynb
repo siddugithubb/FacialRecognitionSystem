{
 "cells": [
  {
   "cell_type": "markdown",
   "id": "d1e7cc1b-f701-468f-befc-0ed24934e2b2",
   "metadata": {},
   "source": [
    "**Install Dependencies**\n"
   ]
  },
  {
   "cell_type": "code",
   "execution_count": 3,
   "id": "b62c3153-43f7-481e-b88e-9d56b565f246",
   "metadata": {
    "scrolled": true
   },
   "outputs": [
    {
     "name": "stdout",
     "output_type": "stream",
     "text": [
      "Requirement already satisfied: tensorflow in /home/sidhartha/anaconda3/lib/python3.12/site-packages (2.17.0)\n",
      "Requirement already satisfied: opencv-python in /home/sidhartha/anaconda3/lib/python3.12/site-packages (4.10.0.84)\n",
      "Requirement already satisfied: matplotlib in /home/sidhartha/anaconda3/lib/python3.12/site-packages (3.8.4)\n",
      "Requirement already satisfied: absl-py>=1.0.0 in /home/sidhartha/anaconda3/lib/python3.12/site-packages (from tensorflow) (2.1.0)\n",
      "Requirement already satisfied: astunparse>=1.6.0 in /home/sidhartha/anaconda3/lib/python3.12/site-packages (from tensorflow) (1.6.3)\n",
      "Requirement already satisfied: flatbuffers>=24.3.25 in /home/sidhartha/anaconda3/lib/python3.12/site-packages (from tensorflow) (24.3.25)\n",
      "Requirement already satisfied: gast!=0.5.0,!=0.5.1,!=0.5.2,>=0.2.1 in /home/sidhartha/anaconda3/lib/python3.12/site-packages (from tensorflow) (0.6.0)\n",
      "Requirement already satisfied: google-pasta>=0.1.1 in /home/sidhartha/anaconda3/lib/python3.12/site-packages (from tensorflow) (0.2.0)\n",
      "Requirement already satisfied: h5py>=3.10.0 in /home/sidhartha/anaconda3/lib/python3.12/site-packages (from tensorflow) (3.11.0)\n",
      "Requirement already satisfied: libclang>=13.0.0 in /home/sidhartha/anaconda3/lib/python3.12/site-packages (from tensorflow) (18.1.1)\n",
      "Requirement already satisfied: ml-dtypes<0.5.0,>=0.3.1 in /home/sidhartha/anaconda3/lib/python3.12/site-packages (from tensorflow) (0.4.0)\n",
      "Requirement already satisfied: opt-einsum>=2.3.2 in /home/sidhartha/anaconda3/lib/python3.12/site-packages (from tensorflow) (3.3.0)\n",
      "Requirement already satisfied: packaging in /home/sidhartha/anaconda3/lib/python3.12/site-packages (from tensorflow) (23.2)\n",
      "Requirement already satisfied: protobuf!=4.21.0,!=4.21.1,!=4.21.2,!=4.21.3,!=4.21.4,!=4.21.5,<5.0.0dev,>=3.20.3 in /home/sidhartha/anaconda3/lib/python3.12/site-packages (from tensorflow) (3.20.3)\n",
      "Requirement already satisfied: requests<3,>=2.21.0 in /home/sidhartha/anaconda3/lib/python3.12/site-packages (from tensorflow) (2.32.2)\n",
      "Requirement already satisfied: setuptools in /home/sidhartha/anaconda3/lib/python3.12/site-packages (from tensorflow) (69.5.1)\n",
      "Requirement already satisfied: six>=1.12.0 in /home/sidhartha/anaconda3/lib/python3.12/site-packages (from tensorflow) (1.16.0)\n",
      "Requirement already satisfied: termcolor>=1.1.0 in /home/sidhartha/anaconda3/lib/python3.12/site-packages (from tensorflow) (2.4.0)\n",
      "Requirement already satisfied: typing-extensions>=3.6.6 in /home/sidhartha/anaconda3/lib/python3.12/site-packages (from tensorflow) (4.11.0)\n",
      "Requirement already satisfied: wrapt>=1.11.0 in /home/sidhartha/anaconda3/lib/python3.12/site-packages (from tensorflow) (1.14.1)\n",
      "Requirement already satisfied: grpcio<2.0,>=1.24.3 in /home/sidhartha/anaconda3/lib/python3.12/site-packages (from tensorflow) (1.65.4)\n",
      "Requirement already satisfied: tensorboard<2.18,>=2.17 in /home/sidhartha/anaconda3/lib/python3.12/site-packages (from tensorflow) (2.17.0)\n",
      "Requirement already satisfied: keras>=3.2.0 in /home/sidhartha/anaconda3/lib/python3.12/site-packages (from tensorflow) (3.4.1)\n",
      "Requirement already satisfied: numpy<2.0.0,>=1.26.0 in /home/sidhartha/anaconda3/lib/python3.12/site-packages (from tensorflow) (1.26.4)\n",
      "Requirement already satisfied: contourpy>=1.0.1 in /home/sidhartha/anaconda3/lib/python3.12/site-packages (from matplotlib) (1.2.0)\n",
      "Requirement already satisfied: cycler>=0.10 in /home/sidhartha/anaconda3/lib/python3.12/site-packages (from matplotlib) (0.11.0)\n",
      "Requirement already satisfied: fonttools>=4.22.0 in /home/sidhartha/anaconda3/lib/python3.12/site-packages (from matplotlib) (4.51.0)\n",
      "Requirement already satisfied: kiwisolver>=1.3.1 in /home/sidhartha/anaconda3/lib/python3.12/site-packages (from matplotlib) (1.4.4)\n",
      "Requirement already satisfied: pillow>=8 in /home/sidhartha/anaconda3/lib/python3.12/site-packages (from matplotlib) (10.3.0)\n",
      "Requirement already satisfied: pyparsing>=2.3.1 in /home/sidhartha/anaconda3/lib/python3.12/site-packages (from matplotlib) (3.0.9)\n",
      "Requirement already satisfied: python-dateutil>=2.7 in /home/sidhartha/anaconda3/lib/python3.12/site-packages (from matplotlib) (2.9.0.post0)\n",
      "Requirement already satisfied: wheel<1.0,>=0.23.0 in /home/sidhartha/anaconda3/lib/python3.12/site-packages (from astunparse>=1.6.0->tensorflow) (0.43.0)\n",
      "Requirement already satisfied: rich in /home/sidhartha/anaconda3/lib/python3.12/site-packages (from keras>=3.2.0->tensorflow) (13.3.5)\n",
      "Requirement already satisfied: namex in /home/sidhartha/anaconda3/lib/python3.12/site-packages (from keras>=3.2.0->tensorflow) (0.0.8)\n",
      "Requirement already satisfied: optree in /home/sidhartha/anaconda3/lib/python3.12/site-packages (from keras>=3.2.0->tensorflow) (0.12.1)\n",
      "Requirement already satisfied: charset-normalizer<4,>=2 in /home/sidhartha/anaconda3/lib/python3.12/site-packages (from requests<3,>=2.21.0->tensorflow) (2.0.4)\n",
      "Requirement already satisfied: idna<4,>=2.5 in /home/sidhartha/anaconda3/lib/python3.12/site-packages (from requests<3,>=2.21.0->tensorflow) (3.7)\n",
      "Requirement already satisfied: urllib3<3,>=1.21.1 in /home/sidhartha/anaconda3/lib/python3.12/site-packages (from requests<3,>=2.21.0->tensorflow) (2.2.2)\n",
      "Requirement already satisfied: certifi>=2017.4.17 in /home/sidhartha/anaconda3/lib/python3.12/site-packages (from requests<3,>=2.21.0->tensorflow) (2024.6.2)\n",
      "Requirement already satisfied: markdown>=2.6.8 in /home/sidhartha/anaconda3/lib/python3.12/site-packages (from tensorboard<2.18,>=2.17->tensorflow) (3.4.1)\n",
      "Requirement already satisfied: tensorboard-data-server<0.8.0,>=0.7.0 in /home/sidhartha/anaconda3/lib/python3.12/site-packages (from tensorboard<2.18,>=2.17->tensorflow) (0.7.2)\n",
      "Requirement already satisfied: werkzeug>=1.0.1 in /home/sidhartha/anaconda3/lib/python3.12/site-packages (from tensorboard<2.18,>=2.17->tensorflow) (3.0.3)\n",
      "Requirement already satisfied: MarkupSafe>=2.1.1 in /home/sidhartha/anaconda3/lib/python3.12/site-packages (from werkzeug>=1.0.1->tensorboard<2.18,>=2.17->tensorflow) (2.1.3)\n",
      "Requirement already satisfied: markdown-it-py<3.0.0,>=2.2.0 in /home/sidhartha/anaconda3/lib/python3.12/site-packages (from rich->keras>=3.2.0->tensorflow) (2.2.0)\n",
      "Requirement already satisfied: pygments<3.0.0,>=2.13.0 in /home/sidhartha/anaconda3/lib/python3.12/site-packages (from rich->keras>=3.2.0->tensorflow) (2.15.1)\n",
      "Requirement already satisfied: mdurl~=0.1 in /home/sidhartha/anaconda3/lib/python3.12/site-packages (from markdown-it-py<3.0.0,>=2.2.0->rich->keras>=3.2.0->tensorflow) (0.1.0)\n"
     ]
    }
   ],
   "source": [
    "!pip install tensorflow opencv-python matplotlib\n"
   ]
  },
  {
   "cell_type": "code",
   "execution_count": 3,
   "id": "6f887613",
   "metadata": {},
   "outputs": [
    {
     "name": "stderr",
     "output_type": "stream",
     "text": [
      "2024-08-09 23:34:00.200171: I external/local_xla/xla/stream_executor/cuda/cuda_executor.cc:901] successful NUMA node read from SysFS had negative value (-1), but there must be at least one NUMA node, so returning NUMA node zero. See more at https://github.com/torvalds/linux/blob/v6.0/Documentation/ABI/testing/sysfs-bus-pci#L344-L355\n",
      "2024-08-09 23:34:00.301690: I external/local_xla/xla/stream_executor/cuda/cuda_executor.cc:901] successful NUMA node read from SysFS had negative value (-1), but there must be at least one NUMA node, so returning NUMA node zero. See more at https://github.com/torvalds/linux/blob/v6.0/Documentation/ABI/testing/sysfs-bus-pci#L344-L355\n",
      "2024-08-09 23:34:00.302036: I external/local_xla/xla/stream_executor/cuda/cuda_executor.cc:901] successful NUMA node read from SysFS had negative value (-1), but there must be at least one NUMA node, so returning NUMA node zero. See more at https://github.com/torvalds/linux/blob/v6.0/Documentation/ABI/testing/sysfs-bus-pci#L344-L355\n"
     ]
    }
   ],
   "source": [
    "# Avoid out of memory error by setting gpu memory consumption growth\n",
    "\n",
    "# List all physical devices of type 'GPU'\n",
    "gpus = tf.config.experimental.list_physical_devices('GPU')\n",
    "\n",
    "# Enable memory growth for each GPU\n",
    "for gpu in gpus:\n",
    "    tf.config.experimental.set_memory_growth(gpu,True)"
   ]
  },
  {
   "cell_type": "code",
   "execution_count": 5,
   "id": "aaaf8789",
   "metadata": {},
   "outputs": [
    {
     "data": {
      "text/plain": [
       "1"
      ]
     },
     "execution_count": 5,
     "metadata": {},
     "output_type": "execute_result"
    }
   ],
   "source": [
    "len(gpus)"
   ]
  },
  {
   "cell_type": "code",
   "execution_count": 1,
   "id": "ee6b3ad3-5278-4523-81ad-4085e318d191",
   "metadata": {},
   "outputs": [],
   "source": [
    "import cv2\n",
    "import os\n",
    "import random \n",
    "import numpy as np\n",
    "from matplotlib import pyplot as plt"
   ]
  },
  {
   "cell_type": "code",
   "execution_count": 4,
   "id": "4b91d54c-97cd-4d68-a93c-77f6fa270bde",
   "metadata": {},
   "outputs": [],
   "source": [
    "from tensorflow.keras.models import Model\n",
    "from tensorflow.keras.layers import Layer, Conv2D, Dense, MaxPooling2D, Input, Flatten\n",
    "import tensorflow as tf\n"
   ]
  },
  {
   "cell_type": "markdown",
   "id": "8552743e-3889-4936-b3d6-14915e2fd576",
   "metadata": {},
   "source": [
    "**Creating the data folder with anchor,positive, and negative**\n"
   ]
  },
  {
   "cell_type": "code",
   "execution_count": 5,
   "id": "267f79e8-e077-4cad-84e0-d29ff2003574",
   "metadata": {},
   "outputs": [],
   "source": [
    "ANC_PATH = os.path.join('data','anchor')\n",
    "NEG_PATH = os.path.join('data','negative')\n",
    "POS_PATH = os.path.join('data','positive')"
   ]
  },
  {
   "cell_type": "code",
   "execution_count": 17,
   "id": "79815e8a-287e-4e4c-be3a-6ef8b563cc7a",
   "metadata": {},
   "outputs": [],
   "source": [
    "os.makedirs(POS_PATH)\n",
    "os.makedirs(NEG_PATH)\n",
    "os.makedirs(ANC_PATH)"
   ]
  },
  {
   "cell_type": "markdown",
   "id": "5db4e363-bbb8-4bb7-a3b8-993113143604",
   "metadata": {},
   "source": [
    "**Collect datasets**\n"
   ]
  },
  {
   "cell_type": "markdown",
   "id": "28a2d2ef-c041-4b31-8864-0b23112bdc83",
   "metadata": {},
   "source": [
    "Negative samples- labelled Faces in the wild\n"
   ]
  },
  {
   "cell_type": "code",
   "execution_count": 20,
   "id": "e687f525-a467-4e05-a5bb-a5f8271d4f3c",
   "metadata": {},
   "outputs": [],
   "source": [
    "#http://vis-www.cs.umass.edu/lfw/\n"
   ]
  },
  {
   "cell_type": "code",
   "execution_count": 28,
   "id": "5a1f4d75-3841-485b-bbb1-897f6934b574",
   "metadata": {},
   "outputs": [],
   "source": [
    "#uncompress \n",
    "!tar -xf lfw.tgz"
   ]
  },
  {
   "cell_type": "code",
   "execution_count": null,
   "id": "3443ad9a-b387-471a-99a0-64fe4618a0d9",
   "metadata": {},
   "outputs": [],
   "source": [
    "for directory in os.listdir('lfw'):\n",
    "    for file in os.listdir(os.path.join('lfw', directory)):\n",
    "        EX_PATH = os.path.join('lfw', directory, file)\n",
    "        NEW_PATH = os.path.join(NEG_PATH, file)\n",
    "        os.replace(EX_PATH, NEW_PATH)"
   ]
  },
  {
   "cell_type": "markdown",
   "id": "9816ae15-5236-4055-8e38-0dbee6a567c9",
   "metadata": {},
   "source": [
    "__Collecting postive and anchor datasets__"
   ]
  },
  {
   "cell_type": "code",
   "execution_count": 92,
   "id": "e8d6f745-f013-4983-b267-4cc3785ddb39",
   "metadata": {},
   "outputs": [
    {
     "name": "stdout",
     "output_type": "stream",
     "text": [
      "Requirement already satisfied: opencv-python in /home/sidhartha/anaconda3/lib/python3.12/site-packages (4.10.0.84)\n",
      "Requirement already satisfied: numpy>=1.21.2 in /home/sidhartha/anaconda3/lib/python3.12/site-packages (from opencv-python) (1.26.4)\n",
      "Note: you may need to restart the kernel to use updated packages.\n"
     ]
    }
   ],
   "source": [
    "pip install --upgrade opencv-python"
   ]
  },
  {
   "cell_type": "code",
   "execution_count": 4,
   "id": "9d5e4d57-3333-4685-8e88-857072a6513e",
   "metadata": {},
   "outputs": [],
   "source": [
    "# to generate unique image names\n",
    "import uuid"
   ]
  },
  {
   "cell_type": "code",
   "execution_count": 9,
   "id": "bedf77a4-85e5-48c9-ab9d-53eb70220c61",
   "metadata": {},
   "outputs": [
    {
     "data": {
      "text/plain": [
       "'e7f1818e-5679-11ef-942e-b07d64e72afc.jpg'"
      ]
     },
     "execution_count": 9,
     "metadata": {},
     "output_type": "execute_result"
    }
   ],
   "source": [
    "'{}.jpg'.format(uuid.uuid1())"
   ]
  },
  {
   "cell_type": "code",
   "execution_count": 115,
   "id": "2a8c6632-8b78-4553-9886-372ccb7020f6",
   "metadata": {},
   "outputs": [
    {
     "name": "stderr",
     "output_type": "stream",
     "text": [
      "QObject::moveToThread: Current thread (0x6234d50) is not the object's thread (0x6b1f0e0).\n",
      "Cannot move to target thread (0x6234d50)\n",
      "\n",
      "QObject::moveToThread: Current thread (0x6234d50) is not the object's thread (0x6b1f0e0).\n",
      "Cannot move to target thread (0x6234d50)\n",
      "\n",
      "QObject::moveToThread: Current thread (0x6234d50) is not the object's thread (0x6b1f0e0).\n",
      "Cannot move to target thread (0x6234d50)\n",
      "\n",
      "QObject::moveToThread: Current thread (0x6234d50) is not the object's thread (0x6b1f0e0).\n",
      "Cannot move to target thread (0x6234d50)\n",
      "\n",
      "QObject::moveToThread: Current thread (0x6234d50) is not the object's thread (0x6b1f0e0).\n",
      "Cannot move to target thread (0x6234d50)\n",
      "\n",
      "QObject::moveToThread: Current thread (0x6234d50) is not the object's thread (0x6b1f0e0).\n",
      "Cannot move to target thread (0x6234d50)\n",
      "\n",
      "QObject::moveToThread: Current thread (0x6234d50) is not the object's thread (0x6b1f0e0).\n",
      "Cannot move to target thread (0x6234d50)\n",
      "\n",
      "QObject::moveToThread: Current thread (0x6234d50) is not the object's thread (0x6b1f0e0).\n",
      "Cannot move to target thread (0x6234d50)\n",
      "\n",
      "QObject::moveToThread: Current thread (0x6234d50) is not the object's thread (0x6b1f0e0).\n",
      "Cannot move to target thread (0x6234d50)\n",
      "\n",
      "QObject::moveToThread: Current thread (0x6234d50) is not the object's thread (0x6b1f0e0).\n",
      "Cannot move to target thread (0x6234d50)\n",
      "\n",
      "QObject::moveToThread: Current thread (0x6234d50) is not the object's thread (0x6b1f0e0).\n",
      "Cannot move to target thread (0x6234d50)\n",
      "\n",
      "QObject::moveToThread: Current thread (0x6234d50) is not the object's thread (0x6b1f0e0).\n",
      "Cannot move to target thread (0x6234d50)\n",
      "\n",
      "QObject::moveToThread: Current thread (0x6234d50) is not the object's thread (0x6b1f0e0).\n",
      "Cannot move to target thread (0x6234d50)\n",
      "\n",
      "QObject::moveToThread: Current thread (0x6234d50) is not the object's thread (0x6b1f0e0).\n",
      "Cannot move to target thread (0x6234d50)\n",
      "\n",
      "QObject::moveToThread: Current thread (0x6234d50) is not the object's thread (0x6b1f0e0).\n",
      "Cannot move to target thread (0x6234d50)\n",
      "\n",
      "QObject::moveToThread: Current thread (0x6234d50) is not the object's thread (0x6b1f0e0).\n",
      "Cannot move to target thread (0x6234d50)\n",
      "\n",
      "QObject::moveToThread: Current thread (0x6234d50) is not the object's thread (0x6b1f0e0).\n",
      "Cannot move to target thread (0x6234d50)\n",
      "\n",
      "QObject::moveToThread: Current thread (0x6234d50) is not the object's thread (0x6b1f0e0).\n",
      "Cannot move to target thread (0x6234d50)\n",
      "\n",
      "QObject::moveToThread: Current thread (0x6234d50) is not the object's thread (0x6b1f0e0).\n",
      "Cannot move to target thread (0x6234d50)\n",
      "\n",
      "QObject::moveToThread: Current thread (0x6234d50) is not the object's thread (0x6b1f0e0).\n",
      "Cannot move to target thread (0x6234d50)\n",
      "\n",
      "QObject::moveToThread: Current thread (0x6234d50) is not the object's thread (0x6b1f0e0).\n",
      "Cannot move to target thread (0x6234d50)\n",
      "\n",
      "QObject::moveToThread: Current thread (0x6234d50) is not the object's thread (0x6b1f0e0).\n",
      "Cannot move to target thread (0x6234d50)\n",
      "\n",
      "QObject::moveToThread: Current thread (0x6234d50) is not the object's thread (0x6b1f0e0).\n",
      "Cannot move to target thread (0x6234d50)\n",
      "\n",
      "QObject::moveToThread: Current thread (0x6234d50) is not the object's thread (0x6b1f0e0).\n",
      "Cannot move to target thread (0x6234d50)\n",
      "\n",
      "QObject::moveToThread: Current thread (0x6234d50) is not the object's thread (0x6b1f0e0).\n",
      "Cannot move to target thread (0x6234d50)\n",
      "\n",
      "QObject::moveToThread: Current thread (0x6234d50) is not the object's thread (0x6b1f0e0).\n",
      "Cannot move to target thread (0x6234d50)\n",
      "\n",
      "QObject::moveToThread: Current thread (0x6234d50) is not the object's thread (0x6b1f0e0).\n",
      "Cannot move to target thread (0x6234d50)\n",
      "\n",
      "QObject::moveToThread: Current thread (0x6234d50) is not the object's thread (0x6b1f0e0).\n",
      "Cannot move to target thread (0x6234d50)\n",
      "\n",
      "QObject::moveToThread: Current thread (0x6234d50) is not the object's thread (0x6b1f0e0).\n",
      "Cannot move to target thread (0x6234d50)\n",
      "\n",
      "QObject::moveToThread: Current thread (0x6234d50) is not the object's thread (0x6b1f0e0).\n",
      "Cannot move to target thread (0x6234d50)\n",
      "\n",
      "QObject::moveToThread: Current thread (0x6234d50) is not the object's thread (0x6b1f0e0).\n",
      "Cannot move to target thread (0x6234d50)\n",
      "\n",
      "QObject::moveToThread: Current thread (0x6234d50) is not the object's thread (0x6b1f0e0).\n",
      "Cannot move to target thread (0x6234d50)\n",
      "\n",
      "QObject::moveToThread: Current thread (0x6234d50) is not the object's thread (0x6b1f0e0).\n",
      "Cannot move to target thread (0x6234d50)\n",
      "\n",
      "QObject::moveToThread: Current thread (0x6234d50) is not the object's thread (0x6b1f0e0).\n",
      "Cannot move to target thread (0x6234d50)\n",
      "\n",
      "QObject::moveToThread: Current thread (0x6234d50) is not the object's thread (0x6b1f0e0).\n",
      "Cannot move to target thread (0x6234d50)\n",
      "\n",
      "QObject::moveToThread: Current thread (0x6234d50) is not the object's thread (0x6b1f0e0).\n",
      "Cannot move to target thread (0x6234d50)\n",
      "\n",
      "QObject::moveToThread: Current thread (0x6234d50) is not the object's thread (0x6b1f0e0).\n",
      "Cannot move to target thread (0x6234d50)\n",
      "\n",
      "QObject::moveToThread: Current thread (0x6234d50) is not the object's thread (0x6b1f0e0).\n",
      "Cannot move to target thread (0x6234d50)\n",
      "\n",
      "QObject::moveToThread: Current thread (0x6234d50) is not the object's thread (0x6b1f0e0).\n",
      "Cannot move to target thread (0x6234d50)\n",
      "\n",
      "QObject::moveToThread: Current thread (0x6234d50) is not the object's thread (0x6b1f0e0).\n",
      "Cannot move to target thread (0x6234d50)\n",
      "\n",
      "QObject::moveToThread: Current thread (0x6234d50) is not the object's thread (0x6b1f0e0).\n",
      "Cannot move to target thread (0x6234d50)\n",
      "\n",
      "QObject::moveToThread: Current thread (0x6234d50) is not the object's thread (0x6b1f0e0).\n",
      "Cannot move to target thread (0x6234d50)\n",
      "\n",
      "QObject::moveToThread: Current thread (0x6234d50) is not the object's thread (0x6b1f0e0).\n",
      "Cannot move to target thread (0x6234d50)\n",
      "\n",
      "QObject::moveToThread: Current thread (0x6234d50) is not the object's thread (0x6b1f0e0).\n",
      "Cannot move to target thread (0x6234d50)\n",
      "\n",
      "QObject::moveToThread: Current thread (0x6234d50) is not the object's thread (0x6b1f0e0).\n",
      "Cannot move to target thread (0x6234d50)\n",
      "\n",
      "QObject::moveToThread: Current thread (0x6234d50) is not the object's thread (0x6b1f0e0).\n",
      "Cannot move to target thread (0x6234d50)\n",
      "\n",
      "QObject::moveToThread: Current thread (0x6234d50) is not the object's thread (0x6b1f0e0).\n",
      "Cannot move to target thread (0x6234d50)\n",
      "\n",
      "QObject::moveToThread: Current thread (0x6234d50) is not the object's thread (0x6b1f0e0).\n",
      "Cannot move to target thread (0x6234d50)\n",
      "\n",
      "QObject::moveToThread: Current thread (0x6234d50) is not the object's thread (0x6b1f0e0).\n",
      "Cannot move to target thread (0x6234d50)\n",
      "\n",
      "QObject::moveToThread: Current thread (0x6234d50) is not the object's thread (0x6b1f0e0).\n",
      "Cannot move to target thread (0x6234d50)\n",
      "\n",
      "QObject::moveToThread: Current thread (0x6234d50) is not the object's thread (0x6b1f0e0).\n",
      "Cannot move to target thread (0x6234d50)\n",
      "\n",
      "QObject::moveToThread: Current thread (0x6234d50) is not the object's thread (0x6b1f0e0).\n",
      "Cannot move to target thread (0x6234d50)\n",
      "\n",
      "QObject::moveToThread: Current thread (0x6234d50) is not the object's thread (0x6b1f0e0).\n",
      "Cannot move to target thread (0x6234d50)\n",
      "\n",
      "QObject::moveToThread: Current thread (0x6234d50) is not the object's thread (0x6b1f0e0).\n",
      "Cannot move to target thread (0x6234d50)\n",
      "\n",
      "QObject::moveToThread: Current thread (0x6234d50) is not the object's thread (0x6b1f0e0).\n",
      "Cannot move to target thread (0x6234d50)\n",
      "\n",
      "QObject::moveToThread: Current thread (0x6234d50) is not the object's thread (0x6b1f0e0).\n",
      "Cannot move to target thread (0x6234d50)\n",
      "\n",
      "QObject::moveToThread: Current thread (0x6234d50) is not the object's thread (0x6b1f0e0).\n",
      "Cannot move to target thread (0x6234d50)\n",
      "\n",
      "QObject::moveToThread: Current thread (0x6234d50) is not the object's thread (0x6b1f0e0).\n",
      "Cannot move to target thread (0x6234d50)\n",
      "\n",
      "QObject::moveToThread: Current thread (0x6234d50) is not the object's thread (0x6b1f0e0).\n",
      "Cannot move to target thread (0x6234d50)\n",
      "\n",
      "QObject::moveToThread: Current thread (0x6234d50) is not the object's thread (0x6b1f0e0).\n",
      "Cannot move to target thread (0x6234d50)\n",
      "\n",
      "QObject::moveToThread: Current thread (0x6234d50) is not the object's thread (0x6b1f0e0).\n",
      "Cannot move to target thread (0x6234d50)\n",
      "\n",
      "QObject::moveToThread: Current thread (0x6234d50) is not the object's thread (0x6b1f0e0).\n",
      "Cannot move to target thread (0x6234d50)\n",
      "\n",
      "QObject::moveToThread: Current thread (0x6234d50) is not the object's thread (0x6b1f0e0).\n",
      "Cannot move to target thread (0x6234d50)\n",
      "\n",
      "QObject::moveToThread: Current thread (0x6234d50) is not the object's thread (0x6b1f0e0).\n",
      "Cannot move to target thread (0x6234d50)\n",
      "\n",
      "QObject::moveToThread: Current thread (0x6234d50) is not the object's thread (0x6b1f0e0).\n",
      "Cannot move to target thread (0x6234d50)\n",
      "\n",
      "QObject::moveToThread: Current thread (0x6234d50) is not the object's thread (0x6b1f0e0).\n",
      "Cannot move to target thread (0x6234d50)\n",
      "\n",
      "QObject::moveToThread: Current thread (0x6234d50) is not the object's thread (0x6b1f0e0).\n",
      "Cannot move to target thread (0x6234d50)\n",
      "\n",
      "QObject::moveToThread: Current thread (0x6234d50) is not the object's thread (0x6b1f0e0).\n",
      "Cannot move to target thread (0x6234d50)\n",
      "\n",
      "QObject::moveToThread: Current thread (0x6234d50) is not the object's thread (0x6b1f0e0).\n",
      "Cannot move to target thread (0x6234d50)\n",
      "\n",
      "QObject::moveToThread: Current thread (0x6234d50) is not the object's thread (0x6b1f0e0).\n",
      "Cannot move to target thread (0x6234d50)\n",
      "\n",
      "QObject::moveToThread: Current thread (0x6234d50) is not the object's thread (0x6b1f0e0).\n",
      "Cannot move to target thread (0x6234d50)\n",
      "\n",
      "QObject::moveToThread: Current thread (0x6234d50) is not the object's thread (0x6b1f0e0).\n",
      "Cannot move to target thread (0x6234d50)\n",
      "\n",
      "QObject::moveToThread: Current thread (0x6234d50) is not the object's thread (0x6b1f0e0).\n",
      "Cannot move to target thread (0x6234d50)\n",
      "\n",
      "QObject::moveToThread: Current thread (0x6234d50) is not the object's thread (0x6b1f0e0).\n",
      "Cannot move to target thread (0x6234d50)\n",
      "\n",
      "QObject::moveToThread: Current thread (0x6234d50) is not the object's thread (0x6b1f0e0).\n",
      "Cannot move to target thread (0x6234d50)\n",
      "\n",
      "QObject::moveToThread: Current thread (0x6234d50) is not the object's thread (0x6b1f0e0).\n",
      "Cannot move to target thread (0x6234d50)\n",
      "\n",
      "QObject::moveToThread: Current thread (0x6234d50) is not the object's thread (0x6b1f0e0).\n",
      "Cannot move to target thread (0x6234d50)\n",
      "\n",
      "QObject::moveToThread: Current thread (0x6234d50) is not the object's thread (0x6b1f0e0).\n",
      "Cannot move to target thread (0x6234d50)\n",
      "\n",
      "QObject::moveToThread: Current thread (0x6234d50) is not the object's thread (0x6b1f0e0).\n",
      "Cannot move to target thread (0x6234d50)\n",
      "\n",
      "QObject::moveToThread: Current thread (0x6234d50) is not the object's thread (0x6b1f0e0).\n",
      "Cannot move to target thread (0x6234d50)\n",
      "\n",
      "QObject::moveToThread: Current thread (0x6234d50) is not the object's thread (0x6b1f0e0).\n",
      "Cannot move to target thread (0x6234d50)\n",
      "\n",
      "QObject::moveToThread: Current thread (0x6234d50) is not the object's thread (0x6b1f0e0).\n",
      "Cannot move to target thread (0x6234d50)\n",
      "\n",
      "QObject::moveToThread: Current thread (0x6234d50) is not the object's thread (0x6b1f0e0).\n",
      "Cannot move to target thread (0x6234d50)\n",
      "\n",
      "QObject::moveToThread: Current thread (0x6234d50) is not the object's thread (0x6b1f0e0).\n",
      "Cannot move to target thread (0x6234d50)\n",
      "\n",
      "QObject::moveToThread: Current thread (0x6234d50) is not the object's thread (0x6b1f0e0).\n",
      "Cannot move to target thread (0x6234d50)\n",
      "\n",
      "QObject::moveToThread: Current thread (0x6234d50) is not the object's thread (0x6b1f0e0).\n",
      "Cannot move to target thread (0x6234d50)\n",
      "\n",
      "QObject::moveToThread: Current thread (0x6234d50) is not the object's thread (0x6b1f0e0).\n",
      "Cannot move to target thread (0x6234d50)\n",
      "\n",
      "QObject::moveToThread: Current thread (0x6234d50) is not the object's thread (0x6b1f0e0).\n",
      "Cannot move to target thread (0x6234d50)\n",
      "\n",
      "QObject::moveToThread: Current thread (0x6234d50) is not the object's thread (0x6b1f0e0).\n",
      "Cannot move to target thread (0x6234d50)\n",
      "\n",
      "QObject::moveToThread: Current thread (0x6234d50) is not the object's thread (0x6b1f0e0).\n",
      "Cannot move to target thread (0x6234d50)\n",
      "\n",
      "QObject::moveToThread: Current thread (0x6234d50) is not the object's thread (0x6b1f0e0).\n",
      "Cannot move to target thread (0x6234d50)\n",
      "\n",
      "QObject::moveToThread: Current thread (0x6234d50) is not the object's thread (0x6b1f0e0).\n",
      "Cannot move to target thread (0x6234d50)\n",
      "\n",
      "QObject::moveToThread: Current thread (0x6234d50) is not the object's thread (0x6b1f0e0).\n",
      "Cannot move to target thread (0x6234d50)\n",
      "\n",
      "QObject::moveToThread: Current thread (0x6234d50) is not the object's thread (0x6b1f0e0).\n",
      "Cannot move to target thread (0x6234d50)\n",
      "\n",
      "QObject::moveToThread: Current thread (0x6234d50) is not the object's thread (0x6b1f0e0).\n",
      "Cannot move to target thread (0x6234d50)\n",
      "\n",
      "QObject::moveToThread: Current thread (0x6234d50) is not the object's thread (0x6b1f0e0).\n",
      "Cannot move to target thread (0x6234d50)\n",
      "\n",
      "QObject::moveToThread: Current thread (0x6234d50) is not the object's thread (0x6b1f0e0).\n",
      "Cannot move to target thread (0x6234d50)\n",
      "\n",
      "QObject::moveToThread: Current thread (0x6234d50) is not the object's thread (0x6b1f0e0).\n",
      "Cannot move to target thread (0x6234d50)\n",
      "\n",
      "QObject::moveToThread: Current thread (0x6234d50) is not the object's thread (0x6b1f0e0).\n",
      "Cannot move to target thread (0x6234d50)\n",
      "\n",
      "QObject::moveToThread: Current thread (0x6234d50) is not the object's thread (0x6b1f0e0).\n",
      "Cannot move to target thread (0x6234d50)\n",
      "\n",
      "QObject::moveToThread: Current thread (0x6234d50) is not the object's thread (0x6b1f0e0).\n",
      "Cannot move to target thread (0x6234d50)\n",
      "\n",
      "QObject::moveToThread: Current thread (0x6234d50) is not the object's thread (0x6b1f0e0).\n",
      "Cannot move to target thread (0x6234d50)\n",
      "\n",
      "QObject::moveToThread: Current thread (0x6234d50) is not the object's thread (0x6b1f0e0).\n",
      "Cannot move to target thread (0x6234d50)\n",
      "\n",
      "QObject::moveToThread: Current thread (0x6234d50) is not the object's thread (0x6b1f0e0).\n",
      "Cannot move to target thread (0x6234d50)\n",
      "\n",
      "QObject::moveToThread: Current thread (0x6234d50) is not the object's thread (0x6b1f0e0).\n",
      "Cannot move to target thread (0x6234d50)\n",
      "\n",
      "QObject::moveToThread: Current thread (0x6234d50) is not the object's thread (0x6b1f0e0).\n",
      "Cannot move to target thread (0x6234d50)\n",
      "\n",
      "QObject::moveToThread: Current thread (0x6234d50) is not the object's thread (0x6b1f0e0).\n",
      "Cannot move to target thread (0x6234d50)\n",
      "\n",
      "QObject::moveToThread: Current thread (0x6234d50) is not the object's thread (0x6b1f0e0).\n",
      "Cannot move to target thread (0x6234d50)\n",
      "\n",
      "QObject::moveToThread: Current thread (0x6234d50) is not the object's thread (0x6b1f0e0).\n",
      "Cannot move to target thread (0x6234d50)\n",
      "\n",
      "QObject::moveToThread: Current thread (0x6234d50) is not the object's thread (0x6b1f0e0).\n",
      "Cannot move to target thread (0x6234d50)\n",
      "\n",
      "QObject::moveToThread: Current thread (0x6234d50) is not the object's thread (0x6b1f0e0).\n",
      "Cannot move to target thread (0x6234d50)\n",
      "\n",
      "QObject::moveToThread: Current thread (0x6234d50) is not the object's thread (0x6b1f0e0).\n",
      "Cannot move to target thread (0x6234d50)\n",
      "\n",
      "QObject::moveToThread: Current thread (0x6234d50) is not the object's thread (0x6b1f0e0).\n",
      "Cannot move to target thread (0x6234d50)\n",
      "\n",
      "QObject::moveToThread: Current thread (0x6234d50) is not the object's thread (0x6b1f0e0).\n",
      "Cannot move to target thread (0x6234d50)\n",
      "\n",
      "QObject::moveToThread: Current thread (0x6234d50) is not the object's thread (0x6b1f0e0).\n",
      "Cannot move to target thread (0x6234d50)\n",
      "\n",
      "QObject::moveToThread: Current thread (0x6234d50) is not the object's thread (0x6b1f0e0).\n",
      "Cannot move to target thread (0x6234d50)\n",
      "\n",
      "QObject::moveToThread: Current thread (0x6234d50) is not the object's thread (0x6b1f0e0).\n",
      "Cannot move to target thread (0x6234d50)\n",
      "\n",
      "QObject::moveToThread: Current thread (0x6234d50) is not the object's thread (0x6b1f0e0).\n",
      "Cannot move to target thread (0x6234d50)\n",
      "\n",
      "QObject::moveToThread: Current thread (0x6234d50) is not the object's thread (0x6b1f0e0).\n",
      "Cannot move to target thread (0x6234d50)\n",
      "\n",
      "QObject::moveToThread: Current thread (0x6234d50) is not the object's thread (0x6b1f0e0).\n",
      "Cannot move to target thread (0x6234d50)\n",
      "\n",
      "QObject::moveToThread: Current thread (0x6234d50) is not the object's thread (0x6b1f0e0).\n",
      "Cannot move to target thread (0x6234d50)\n",
      "\n",
      "QObject::moveToThread: Current thread (0x6234d50) is not the object's thread (0x6b1f0e0).\n",
      "Cannot move to target thread (0x6234d50)\n",
      "\n",
      "QObject::moveToThread: Current thread (0x6234d50) is not the object's thread (0x6b1f0e0).\n",
      "Cannot move to target thread (0x6234d50)\n",
      "\n",
      "QObject::moveToThread: Current thread (0x6234d50) is not the object's thread (0x6b1f0e0).\n",
      "Cannot move to target thread (0x6234d50)\n",
      "\n",
      "QObject::moveToThread: Current thread (0x6234d50) is not the object's thread (0x6b1f0e0).\n",
      "Cannot move to target thread (0x6234d50)\n",
      "\n",
      "QObject::moveToThread: Current thread (0x6234d50) is not the object's thread (0x6b1f0e0).\n",
      "Cannot move to target thread (0x6234d50)\n",
      "\n",
      "QObject::moveToThread: Current thread (0x6234d50) is not the object's thread (0x6b1f0e0).\n",
      "Cannot move to target thread (0x6234d50)\n",
      "\n",
      "QObject::moveToThread: Current thread (0x6234d50) is not the object's thread (0x6b1f0e0).\n",
      "Cannot move to target thread (0x6234d50)\n",
      "\n",
      "QObject::moveToThread: Current thread (0x6234d50) is not the object's thread (0x6b1f0e0).\n",
      "Cannot move to target thread (0x6234d50)\n",
      "\n",
      "QObject::moveToThread: Current thread (0x6234d50) is not the object's thread (0x6b1f0e0).\n",
      "Cannot move to target thread (0x6234d50)\n",
      "\n",
      "QObject::moveToThread: Current thread (0x6234d50) is not the object's thread (0x6b1f0e0).\n",
      "Cannot move to target thread (0x6234d50)\n",
      "\n",
      "QObject::moveToThread: Current thread (0x6234d50) is not the object's thread (0x6b1f0e0).\n",
      "Cannot move to target thread (0x6234d50)\n",
      "\n",
      "QObject::moveToThread: Current thread (0x6234d50) is not the object's thread (0x6b1f0e0).\n",
      "Cannot move to target thread (0x6234d50)\n",
      "\n",
      "QObject::moveToThread: Current thread (0x6234d50) is not the object's thread (0x6b1f0e0).\n",
      "Cannot move to target thread (0x6234d50)\n",
      "\n",
      "QObject::moveToThread: Current thread (0x6234d50) is not the object's thread (0x6b1f0e0).\n",
      "Cannot move to target thread (0x6234d50)\n",
      "\n",
      "QObject::moveToThread: Current thread (0x6234d50) is not the object's thread (0x6b1f0e0).\n",
      "Cannot move to target thread (0x6234d50)\n",
      "\n",
      "QObject::moveToThread: Current thread (0x6234d50) is not the object's thread (0x6b1f0e0).\n",
      "Cannot move to target thread (0x6234d50)\n",
      "\n",
      "QObject::moveToThread: Current thread (0x6234d50) is not the object's thread (0x6b1f0e0).\n",
      "Cannot move to target thread (0x6234d50)\n",
      "\n",
      "QObject::moveToThread: Current thread (0x6234d50) is not the object's thread (0x6b1f0e0).\n",
      "Cannot move to target thread (0x6234d50)\n",
      "\n",
      "QObject::moveToThread: Current thread (0x6234d50) is not the object's thread (0x6b1f0e0).\n",
      "Cannot move to target thread (0x6234d50)\n",
      "\n"
     ]
    }
   ],
   "source": [
    "cap = cv2.VideoCapture(0)\n",
    "while cap.isOpened():\n",
    "    ret , frame = cap.read()\n",
    "    frame=frame[80:80+250 , 200:200+250 , :]\n",
    "\n",
    "     \n",
    "    if cv2.waitKey(1) & 0XFF == ord('a'):\n",
    "         imgname= os.path.join(ANC_PATH,'{}.jpg'.format(uuid.uuid1()))\n",
    "         cv2.imwrite(imgname,frame)\n",
    "         \n",
    "    if cv2.waitKey(1) & 0XFF == ord('p'):\n",
    "         imgname= os.path.join(POS_PATH,'{}.jpg'.format(uuid.uuid1()))\n",
    "         cv2.imwrite(imgname,frame)\n",
    "\n",
    "    cv2.imshow('Image' , frame)\n",
    "\n",
    "    if cv2.waitKey(1) & 0XFF == ord('q'):\n",
    "       break\n",
    "\n",
    "cap.release()\n",
    "cv2.destroyAllWindows()"
   ]
  },
  {
   "cell_type": "markdown",
   "id": "e721c8d5-3f51-47eb-bd9a-3e4faaf18398",
   "metadata": {},
   "source": [
    "**Image preprocessing**"
   ]
  },
  {
   "cell_type": "code",
   "execution_count": 6,
   "id": "0de8b393-8941-4bb3-8d29-28f755dbbe7e",
   "metadata": {},
   "outputs": [
    {
     "data": {
      "text/plain": [
       "'data/anchor'"
      ]
     },
     "execution_count": 6,
     "metadata": {},
     "output_type": "execute_result"
    }
   ],
   "source": [
    "ANC_PATH"
   ]
  },
  {
   "cell_type": "code",
   "execution_count": 7,
   "id": "8438866f-ffae-43a3-9fc1-3ce79c6852a7",
   "metadata": {},
   "outputs": [],
   "source": [
    "anchor = tf.data.Dataset.list_files(ANC_PATH+'/*.jpg').take(350)\n",
    "positive = tf.data.Dataset.list_files(POS_PATH+'/*.jpg').take(350)\n",
    "negative = tf.data.Dataset.list_files(NEG_PATH+'/*.jpg').take(350)"
   ]
  },
  {
   "cell_type": "code",
   "execution_count": 8,
   "id": "b6d97c0b-8b22-4094-a28f-5bdadd269097",
   "metadata": {},
   "outputs": [],
   "source": [
    "dir_test = anchor.as_numpy_iterator()"
   ]
  },
  {
   "cell_type": "markdown",
   "id": "76773297-eaac-4c64-8d65-8b466cfa609c",
   "metadata": {},
   "source": [
    "**Preprocessing - scale an resize**\n",
    "\n"
   ]
  },
  {
   "cell_type": "code",
   "execution_count": 9,
   "id": "6fb08812-6c7a-4ed6-91a6-cf8373c3ff97",
   "metadata": {},
   "outputs": [],
   "source": [
    "def preprocess(file_path):\n",
    "    \n",
    "    # Read in image from file path\n",
    "    byte_img = tf.io.read_file(file_path)\n",
    "    # Load in the image \n",
    "    img = tf.io.decode_jpeg(byte_img)\n",
    "    \n",
    "    # Preprocessing steps - resizing the image to be 100x100x3\n",
    "    img = tf.image.resize(img, (100,100))\n",
    "    # Scale image to be between 0 and 1 \n",
    "    img = img / 255.0\n",
    "    \n",
    "    # Return image\n",
    "    return img"
   ]
  },
  {
   "cell_type": "markdown",
   "id": "8609b375-755c-4019-a0ab-5028a0b3cf9e",
   "metadata": {},
   "source": [
    "**Creating Labelled Data Sets**"
   ]
  },
  {
   "cell_type": "code",
   "execution_count": 10,
   "id": "af2ad061-c949-479a-a07d-4da3347d5e01",
   "metadata": {},
   "outputs": [],
   "source": [
    "positives = tf.data.Dataset.zip((anchor, positive, tf.data.Dataset.from_tensor_slices(tf.ones(len(anchor)))))\n",
    "negatives = tf.data.Dataset.zip((anchor, negative, tf.data.Dataset.from_tensor_slices(tf.zeros(len(anchor)))))\n",
    "data = positives.concatenate(negatives)"
   ]
  },
  {
   "cell_type": "code",
   "execution_count": 11,
   "id": "cc050893-405b-42e6-9b92-8b9724faffce",
   "metadata": {},
   "outputs": [],
   "source": [
    "samples = data.as_numpy_iterator()"
   ]
  },
  {
   "cell_type": "code",
   "execution_count": 12,
   "id": "86b5d45e-8fb6-4647-8cb5-7df76b22b304",
   "metadata": {},
   "outputs": [],
   "source": [
    "exampple = samples.next()"
   ]
  },
  {
   "cell_type": "markdown",
   "id": "87cbd9f4-9542-4115-ac6c-309cf58f747d",
   "metadata": {},
   "source": [
    "**Building train and test partition**"
   ]
  },
  {
   "cell_type": "code",
   "execution_count": 13,
   "id": "0ca13364-40fe-48ce-a5fa-b46dae50bcb1",
   "metadata": {},
   "outputs": [],
   "source": [
    "def preprocess_twin(input_img, validation_img, label):\n",
    "    return(preprocess(input_img), preprocess(validation_img), label)"
   ]
  },
  {
   "cell_type": "code",
   "execution_count": 14,
   "id": "94160700-a8b7-43d0-bda8-0610ace9a438",
   "metadata": {},
   "outputs": [],
   "source": [
    "res = preprocess_twin(*exampple)"
   ]
  },
  {
   "cell_type": "code",
   "execution_count": 15,
   "id": "af64a4d8-4c99-4218-9ddb-87779ebfa40c",
   "metadata": {},
   "outputs": [
    {
     "data": {
      "text/plain": [
       "<matplotlib.image.AxesImage at 0x7f115a5e1820>"
      ]
     },
     "execution_count": 15,
     "metadata": {},
     "output_type": "execute_result"
    },
    {
     "data": {
      "image/png": "[encoded data removed]",
      "text/plain": [
       "<Figure size 640x480 with 1 Axes>"
      ]
     },
     "metadata": {},
     "output_type": "display_data"
    }
   ],
   "source": [
    "plt.imshow(res[0])"
   ]
  },
  {
   "cell_type": "code",
   "execution_count": 16,
   "id": "f284e061-72b3-4034-8d72-13be091c5fed",
   "metadata": {},
   "outputs": [],
   "source": [
    "# Build dataloader pipeline\n",
    "data = data.map(preprocess_twin)\n",
    "data = data.cache()\n",
    "data = data.shuffle(buffer_size=1024)"
   ]
  },
  {
   "cell_type": "code",
   "execution_count": 17,
   "id": "da672f2e-839f-40b0-ac7a-0ee70cfac3cb",
   "metadata": {},
   "outputs": [],
   "source": [
    "samples= data.as_numpy_iterator()"
   ]
  },
  {
   "cell_type": "code",
   "execution_count": 18,
   "id": "356d253b-a930-4871-bf3b-b4f4b236bdc8",
   "metadata": {},
   "outputs": [],
   "source": [
    "ex = samples.next()"
   ]
  },
  {
   "cell_type": "code",
   "execution_count": 19,
   "id": "0867f163-f247-42c3-af84-19d3c56e00d9",
   "metadata": {},
   "outputs": [
    {
     "data": {
      "text/plain": [
       "<matplotlib.image.AxesImage at 0x7f115024de20>"
      ]
     },
     "execution_count": 19,
     "metadata": {},
     "output_type": "execute_result"
    },
    {
     "data": {
      "image/png": "[encoded data removed]",
      "text/plain": [
       "<Figure size 640x480 with 1 Axes>"
      ]
     },
     "metadata": {},
     "output_type": "display_data"
    }
   ],
   "source": [
    "# anchor image\n",
    "plt.imshow(ex[0])"
   ]
  },
  {
   "cell_type": "code",
   "execution_count": 20,
   "id": "6f454c2e-0df2-4e15-8a36-051d732d7a6d",
   "metadata": {},
   "outputs": [
    {
     "data": {
      "text/plain": [
       "<matplotlib.image.AxesImage at 0x7f11501dcfb0>"
      ]
     },
     "execution_count": 20,
     "metadata": {},
     "output_type": "execute_result"
    },
    {
     "data": {
      "image/png": "[encoded data removed]",
      "text/plain": [
       "<Figure size 640x480 with 1 Axes>"
      ]
     },
     "metadata": {},
     "output_type": "display_data"
    }
   ],
   "source": [
    "# positive or negative image\n",
    "plt.imshow(ex[1])"
   ]
  },
  {
   "cell_type": "code",
   "execution_count": 21,
   "id": "e446578b-366b-44b2-8ba7-c11e87c3d95f",
   "metadata": {},
   "outputs": [
    {
     "data": {
      "text/plain": [
       "0.0"
      ]
     },
     "execution_count": 21,
     "metadata": {},
     "output_type": "execute_result"
    }
   ],
   "source": [
    "ex[2]"
   ]
  },
  {
   "cell_type": "code",
   "execution_count": 22,
   "id": "638ee94d-8121-4538-b1a3-ed124cd7d709",
   "metadata": {},
   "outputs": [
    {
     "data": {
      "text/plain": [
       "700"
      ]
     },
     "execution_count": 22,
     "metadata": {},
     "output_type": "execute_result"
    }
   ],
   "source": [
    "len(data)"
   ]
  },
  {
   "cell_type": "code",
   "execution_count": 23,
   "id": "bdd7f33c-7e84-441d-8a9c-bb5596e0a72d",
   "metadata": {},
   "outputs": [],
   "source": [
    "# Training partition\n",
    "train_data = data.take(round(len(data)*.7))\n",
    "train_data = train_data.batch(16)\n",
    "train_data = train_data.prefetch(8)"
   ]
  },
  {
   "cell_type": "code",
   "execution_count": 24,
   "id": "6f244d1d-55f3-4031-8aa0-fbbea943e50e",
   "metadata": {},
   "outputs": [],
   "source": [
    "# Testing partition\n",
    "test_data = data.skip(round(len(data)*.7))\n",
    "test_data = test_data.take(round(len(data)*.3))\n",
    "test_data = test_data.batch(16)\n",
    "test_data = test_data.prefetch(8)"
   ]
  },
  {
   "cell_type": "markdown",
   "id": "32592068-18e6-4e65-9898-6ceab5d7d135",
   "metadata": {},
   "source": [
    "**Building Model**"
   ]
  },
  {
   "cell_type": "markdown",
   "id": "4f52eaa4-3433-471c-8c65-fdae224a1564",
   "metadata": {},
   "source": [
    "Building embedding layers"
   ]
  },
  {
   "cell_type": "code",
   "execution_count": 25,
   "id": "2e0d91c2-727e-48d4-9853-bd711ff69cfa",
   "metadata": {},
   "outputs": [],
   "source": [
    "def make_embedding(): \n",
    "    inp = Input(shape=(100, 100, 3), name='input_image')\n",
    "    \n",
    "    # First block\n",
    "    c1 = Conv2D(64, (10, 10), activation='relu')(inp)\n",
    "    m1 = MaxPooling2D(pool_size=(2, 2), padding='same')(c1)\n",
    "    \n",
    "    # Second block\n",
    "    c2 = Conv2D(128, (7, 7), activation='relu')(m1)\n",
    "    m2 = MaxPooling2D(pool_size=(2, 2), padding='same')(c2)\n",
    "    \n",
    "    # Third block\n",
    "    c3 = Conv2D(128, (4, 4), activation='relu')(m2)\n",
    "    m3 = MaxPooling2D(pool_size=(2, 2), padding='same')(c3)\n",
    "    \n",
    "    # Final embedding block\n",
    "    c4 = Conv2D(256, (4, 4), activation='relu')(m3)\n",
    "    f1 = Flatten()(c4)\n",
    "    d1 = Dense(4096, activation='relu')(f1)  # Consider using 'relu' for embeddings\n",
    "    \n",
    "    return Model(inputs=inp, outputs=d1, name='embedding')"
   ]
  },
  {
   "cell_type": "code",
   "execution_count": 26,
   "id": "f6d391f2-61c9-4d87-bbc7-fa951cf81b9c",
   "metadata": {},
   "outputs": [
    {
     "name": "stderr",
     "output_type": "stream",
     "text": [
      "2024-08-10 00:49:39.074210: W external/local_tsl/tsl/framework/cpu_allocator_impl.cc:83] Allocation of 150994944 exceeds 10% of free system memory.\n",
      "2024-08-10 00:49:39.118604: W external/local_tsl/tsl/framework/cpu_allocator_impl.cc:83] Allocation of 150994944 exceeds 10% of free system memory.\n",
      "2024-08-10 00:49:39.153853: W external/local_tsl/tsl/framework/cpu_allocator_impl.cc:83] Allocation of 150994944 exceeds 10% of free system memory.\n"
     ]
    }
   ],
   "source": [
    "embedding = make_embedding()"
   ]
  },
  {
   "cell_type": "code",
   "execution_count": 27,
   "id": "c87164c1-4b4d-42e8-b71f-80643a914fab",
   "metadata": {},
   "outputs": [
    {
     "data": {
      "text/html": [
       "<pre style=\"white-space:pre;overflow-x:auto;line-height:normal;font-family:Menlo,'DejaVu Sans Mono',consolas,'Courier New',monospace\"><span style=\"font-weight: bold\">Model: \"embedding\"</span>\n",
       "</pre>\n"
      ],
      "text/plain": [
       "\u001b[1mModel: \"embedding\"\u001b[0m\n"
      ]
     },
     "metadata": {},
     "output_type": "display_data"
    },
    {
     "data": {
      "text/html": [
       "<pre style=\"white-space:pre;overflow-x:auto;line-height:normal;font-family:Menlo,'DejaVu Sans Mono',consolas,'Courier New',monospace\">┏━━━━━━━━━━━━━━━━━━━━━━━━━━━━━━━━━┳━━━━━━━━━━━━━━━━━━━━━━━━┳━━━━━━━━━━━━━━━┓\n",
       "┃<span style=\"font-weight: bold\"> Layer (type)                    </span>┃<span style=\"font-weight: bold\"> Output Shape           </span>┃<span style=\"font-weight: bold\">       Param # </span>┃\n",
       "┡━━━━━━━━━━━━━━━━━━━━━━━━━━━━━━━━━╇━━━━━━━━━━━━━━━━━━━━━━━━╇━━━━━━━━━━━━━━━┩\n",
       "│ input_image (<span style=\"color: #0087ff; text-decoration-color: #0087ff\">InputLayer</span>)        │ (<span style=\"color: #00d7ff; text-decoration-color: #00d7ff\">None</span>, <span style=\"color: #00af00; text-decoration-color: #00af00\">100</span>, <span style=\"color: #00af00; text-decoration-color: #00af00\">100</span>, <span style=\"color: #00af00; text-decoration-color: #00af00\">3</span>)    │             <span style=\"color: #00af00; text-decoration-color: #00af00\">0</span> │\n",
       "├─────────────────────────────────┼────────────────────────┼───────────────┤\n",
       "│ conv2d (<span style=\"color: #0087ff; text-decoration-color: #0087ff\">Conv2D</span>)                 │ (<span style=\"color: #00d7ff; text-decoration-color: #00d7ff\">None</span>, <span style=\"color: #00af00; text-decoration-color: #00af00\">91</span>, <span style=\"color: #00af00; text-decoration-color: #00af00\">91</span>, <span style=\"color: #00af00; text-decoration-color: #00af00\">64</span>)     │        <span style=\"color: #00af00; text-decoration-color: #00af00\">19,264</span> │\n",
       "├─────────────────────────────────┼────────────────────────┼───────────────┤\n",
       "│ max_pooling2d (<span style=\"color: #0087ff; text-decoration-color: #0087ff\">MaxPooling2D</span>)    │ (<span style=\"color: #00d7ff; text-decoration-color: #00d7ff\">None</span>, <span style=\"color: #00af00; text-decoration-color: #00af00\">46</span>, <span style=\"color: #00af00; text-decoration-color: #00af00\">46</span>, <span style=\"color: #00af00; text-decoration-color: #00af00\">64</span>)     │             <span style=\"color: #00af00; text-decoration-color: #00af00\">0</span> │\n",
       "├─────────────────────────────────┼────────────────────────┼───────────────┤\n",
       "│ conv2d_1 (<span style=\"color: #0087ff; text-decoration-color: #0087ff\">Conv2D</span>)               │ (<span style=\"color: #00d7ff; text-decoration-color: #00d7ff\">None</span>, <span style=\"color: #00af00; text-decoration-color: #00af00\">40</span>, <span style=\"color: #00af00; text-decoration-color: #00af00\">40</span>, <span style=\"color: #00af00; text-decoration-color: #00af00\">128</span>)    │       <span style=\"color: #00af00; text-decoration-color: #00af00\">401,536</span> │\n",
       "├─────────────────────────────────┼────────────────────────┼───────────────┤\n",
       "│ max_pooling2d_1 (<span style=\"color: #0087ff; text-decoration-color: #0087ff\">MaxPooling2D</span>)  │ (<span style=\"color: #00d7ff; text-decoration-color: #00d7ff\">None</span>, <span style=\"color: #00af00; text-decoration-color: #00af00\">20</span>, <span style=\"color: #00af00; text-decoration-color: #00af00\">20</span>, <span style=\"color: #00af00; text-decoration-color: #00af00\">128</span>)    │             <span style=\"color: #00af00; text-decoration-color: #00af00\">0</span> │\n",
       "├─────────────────────────────────┼────────────────────────┼───────────────┤\n",
       "│ conv2d_2 (<span style=\"color: #0087ff; text-decoration-color: #0087ff\">Conv2D</span>)               │ (<span style=\"color: #00d7ff; text-decoration-color: #00d7ff\">None</span>, <span style=\"color: #00af00; text-decoration-color: #00af00\">17</span>, <span style=\"color: #00af00; text-decoration-color: #00af00\">17</span>, <span style=\"color: #00af00; text-decoration-color: #00af00\">128</span>)    │       <span style=\"color: #00af00; text-decoration-color: #00af00\">262,272</span> │\n",
       "├─────────────────────────────────┼────────────────────────┼───────────────┤\n",
       "│ max_pooling2d_2 (<span style=\"color: #0087ff; text-decoration-color: #0087ff\">MaxPooling2D</span>)  │ (<span style=\"color: #00d7ff; text-decoration-color: #00d7ff\">None</span>, <span style=\"color: #00af00; text-decoration-color: #00af00\">9</span>, <span style=\"color: #00af00; text-decoration-color: #00af00\">9</span>, <span style=\"color: #00af00; text-decoration-color: #00af00\">128</span>)      │             <span style=\"color: #00af00; text-decoration-color: #00af00\">0</span> │\n",
       "├─────────────────────────────────┼────────────────────────┼───────────────┤\n",
       "│ conv2d_3 (<span style=\"color: #0087ff; text-decoration-color: #0087ff\">Conv2D</span>)               │ (<span style=\"color: #00d7ff; text-decoration-color: #00d7ff\">None</span>, <span style=\"color: #00af00; text-decoration-color: #00af00\">6</span>, <span style=\"color: #00af00; text-decoration-color: #00af00\">6</span>, <span style=\"color: #00af00; text-decoration-color: #00af00\">256</span>)      │       <span style=\"color: #00af00; text-decoration-color: #00af00\">524,544</span> │\n",
       "├─────────────────────────────────┼────────────────────────┼───────────────┤\n",
       "│ flatten (<span style=\"color: #0087ff; text-decoration-color: #0087ff\">Flatten</span>)               │ (<span style=\"color: #00d7ff; text-decoration-color: #00d7ff\">None</span>, <span style=\"color: #00af00; text-decoration-color: #00af00\">9216</span>)           │             <span style=\"color: #00af00; text-decoration-color: #00af00\">0</span> │\n",
       "├─────────────────────────────────┼────────────────────────┼───────────────┤\n",
       "│ dense (<span style=\"color: #0087ff; text-decoration-color: #0087ff\">Dense</span>)                   │ (<span style=\"color: #00d7ff; text-decoration-color: #00d7ff\">None</span>, <span style=\"color: #00af00; text-decoration-color: #00af00\">4096</span>)           │    <span style=\"color: #00af00; text-decoration-color: #00af00\">37,752,832</span> │\n",
       "└─────────────────────────────────┴────────────────────────┴───────────────┘\n",
       "</pre>\n"
      ],
      "text/plain": [
       "┏━━━━━━━━━━━━━━━━━━━━━━━━━━━━━━━━━┳━━━━━━━━━━━━━━━━━━━━━━━━┳━━━━━━━━━━━━━━━┓\n",
       "┃\u001b[1m \u001b[0m\u001b[1mLayer (type)                   \u001b[0m\u001b[1m \u001b[0m┃\u001b[1m \u001b[0m\u001b[1mOutput Shape          \u001b[0m\u001b[1m \u001b[0m┃\u001b[1m \u001b[0m\u001b[1m      Param #\u001b[0m\u001b[1m \u001b[0m┃\n",
       "┡━━━━━━━━━━━━━━━━━━━━━━━━━━━━━━━━━╇━━━━━━━━━━━━━━━━━━━━━━━━╇━━━━━━━━━━━━━━━┩\n",
       "│ input_image (\u001b[38;5;33mInputLayer\u001b[0m)        │ (\u001b[38;5;45mNone\u001b[0m, \u001b[38;5;34m100\u001b[0m, \u001b[38;5;34m100\u001b[0m, \u001b[38;5;34m3\u001b[0m)    │             \u001b[38;5;34m0\u001b[0m │\n",
       "├─────────────────────────────────┼────────────────────────┼───────────────┤\n",
       "│ conv2d (\u001b[38;5;33mConv2D\u001b[0m)                 │ (\u001b[38;5;45mNone\u001b[0m, \u001b[38;5;34m91\u001b[0m, \u001b[38;5;34m91\u001b[0m, \u001b[38;5;34m64\u001b[0m)     │        \u001b[38;5;34m19,264\u001b[0m │\n",
       "├─────────────────────────────────┼────────────────────────┼───────────────┤\n",
       "│ max_pooling2d (\u001b[38;5;33mMaxPooling2D\u001b[0m)    │ (\u001b[38;5;45mNone\u001b[0m, \u001b[38;5;34m46\u001b[0m, \u001b[38;5;34m46\u001b[0m, \u001b[38;5;34m64\u001b[0m)     │             \u001b[38;5;34m0\u001b[0m │\n",
       "├─────────────────────────────────┼────────────────────────┼───────────────┤\n",
       "│ conv2d_1 (\u001b[38;5;33mConv2D\u001b[0m)               │ (\u001b[38;5;45mNone\u001b[0m, \u001b[38;5;34m40\u001b[0m, \u001b[38;5;34m40\u001b[0m, \u001b[38;5;34m128\u001b[0m)    │       \u001b[38;5;34m401,536\u001b[0m │\n",
       "├─────────────────────────────────┼────────────────────────┼───────────────┤\n",
       "│ max_pooling2d_1 (\u001b[38;5;33mMaxPooling2D\u001b[0m)  │ (\u001b[38;5;45mNone\u001b[0m, \u001b[38;5;34m20\u001b[0m, \u001b[38;5;34m20\u001b[0m, \u001b[38;5;34m128\u001b[0m)    │             \u001b[38;5;34m0\u001b[0m │\n",
       "├─────────────────────────────────┼────────────────────────┼───────────────┤\n",
       "│ conv2d_2 (\u001b[38;5;33mConv2D\u001b[0m)               │ (\u001b[38;5;45mNone\u001b[0m, \u001b[38;5;34m17\u001b[0m, \u001b[38;5;34m17\u001b[0m, \u001b[38;5;34m128\u001b[0m)    │       \u001b[38;5;34m262,272\u001b[0m │\n",
       "├─────────────────────────────────┼────────────────────────┼───────────────┤\n",
       "│ max_pooling2d_2 (\u001b[38;5;33mMaxPooling2D\u001b[0m)  │ (\u001b[38;5;45mNone\u001b[0m, \u001b[38;5;34m9\u001b[0m, \u001b[38;5;34m9\u001b[0m, \u001b[38;5;34m128\u001b[0m)      │             \u001b[38;5;34m0\u001b[0m │\n",
       "├─────────────────────────────────┼────────────────────────┼───────────────┤\n",
       "│ conv2d_3 (\u001b[38;5;33mConv2D\u001b[0m)               │ (\u001b[38;5;45mNone\u001b[0m, \u001b[38;5;34m6\u001b[0m, \u001b[38;5;34m6\u001b[0m, \u001b[38;5;34m256\u001b[0m)      │       \u001b[38;5;34m524,544\u001b[0m │\n",
       "├─────────────────────────────────┼────────────────────────┼───────────────┤\n",
       "│ flatten (\u001b[38;5;33mFlatten\u001b[0m)               │ (\u001b[38;5;45mNone\u001b[0m, \u001b[38;5;34m9216\u001b[0m)           │             \u001b[38;5;34m0\u001b[0m │\n",
       "├─────────────────────────────────┼────────────────────────┼───────────────┤\n",
       "│ dense (\u001b[38;5;33mDense\u001b[0m)                   │ (\u001b[38;5;45mNone\u001b[0m, \u001b[38;5;34m4096\u001b[0m)           │    \u001b[38;5;34m37,752,832\u001b[0m │\n",
       "└─────────────────────────────────┴────────────────────────┴───────────────┘\n"
      ]
     },
     "metadata": {},
     "output_type": "display_data"
    },
    {
     "data": {
      "text/html": [
       "<pre style=\"white-space:pre;overflow-x:auto;line-height:normal;font-family:Menlo,'DejaVu Sans Mono',consolas,'Courier New',monospace\"><span style=\"font-weight: bold\"> Total params: </span><span style=\"color: #00af00; text-decoration-color: #00af00\">38,960,448</span> (148.62 MB)\n",
       "</pre>\n"
      ],
      "text/plain": [
       "\u001b[1m Total params: \u001b[0m\u001b[38;5;34m38,960,448\u001b[0m (148.62 MB)\n"
      ]
     },
     "metadata": {},
     "output_type": "display_data"
    },
    {
     "data": {
      "text/html": [
       "<pre style=\"white-space:pre;overflow-x:auto;line-height:normal;font-family:Menlo,'DejaVu Sans Mono',consolas,'Courier New',monospace\"><span style=\"font-weight: bold\"> Trainable params: </span><span style=\"color: #00af00; text-decoration-color: #00af00\">38,960,448</span> (148.62 MB)\n",
       "</pre>\n"
      ],
      "text/plain": [
       "\u001b[1m Trainable params: \u001b[0m\u001b[38;5;34m38,960,448\u001b[0m (148.62 MB)\n"
      ]
     },
     "metadata": {},
     "output_type": "display_data"
    },
    {
     "data": {
      "text/html": [
       "<pre style=\"white-space:pre;overflow-x:auto;line-height:normal;font-family:Menlo,'DejaVu Sans Mono',consolas,'Courier New',monospace\"><span style=\"font-weight: bold\"> Non-trainable params: </span><span style=\"color: #00af00; text-decoration-color: #00af00\">0</span> (0.00 B)\n",
       "</pre>\n"
      ],
      "text/plain": [
       "\u001b[1m Non-trainable params: \u001b[0m\u001b[38;5;34m0\u001b[0m (0.00 B)\n"
      ]
     },
     "metadata": {},
     "output_type": "display_data"
    }
   ],
   "source": [
    "embedding.summary()"
   ]
  },
  {
   "cell_type": "markdown",
   "id": "270a602b-7f27-482f-a3f6-6bee8c187c3c",
   "metadata": {},
   "source": [
    "**Building a Distance layer**"
   ]
  },
  {
   "cell_type": "code",
   "execution_count": 76,
   "id": "1410d411-6f17-4362-bb1f-e7d2fff93908",
   "metadata": {},
   "outputs": [],
   "source": [
    "import tensorflow as tf\n",
    "\n",
    "class L1Dist(tf.keras.layers.Layer):\n",
    "    def __init__(self, **kwargs):\n",
    "        super().__init__(**kwargs)\n",
    "    \n",
    "    def call(self, input_embedding, validation_embedding):\n",
    "        # Ensure inputs are tensors\n",
    "        input_embedding = tf.convert_to_tensor(input_embedding)\n",
    "        validation_embedding = tf.convert_to_tensor(validation_embedding)\n",
    "        return tf.math.abs(input_embedding - validation_embedding)\n",
    "    \n",
    "    def compute_output_shape(self, input_shape):\n",
    "        return input_shape\n",
    "\n",
    "    "
   ]
  },
  {
   "cell_type": "code",
   "execution_count": 77,
   "id": "9cbf5ff6-907a-4fd2-81af-4aea012a54c8",
   "metadata": {},
   "outputs": [],
   "source": [
    "l1 = L1Dist()"
   ]
  },
  {
   "cell_type": "markdown",
   "id": "8c23a334-6fdb-47ff-82e4-13952b17191a",
   "metadata": {},
   "source": [
    "**Make Siamese Model**"
   ]
  },
  {
   "cell_type": "code",
   "execution_count": 78,
   "id": "c4d00777-cfaa-4f62-8b75-3cec5765d8bf",
   "metadata": {},
   "outputs": [],
   "source": [
    "input_image = Input(name='input_img', shape=(100,100,3))\n",
    "validation_image = Input(name='validation_img', shape=(100,100,3))"
   ]
  },
  {
   "cell_type": "code",
   "execution_count": 79,
   "id": "ba70dafc-a368-4114-b4ad-8ec724b6d027",
   "metadata": {},
   "outputs": [],
   "source": [
    "inp_embedding = embedding(input_image)\n",
    "val_embedding = embedding(validation_image)"
   ]
  },
  {
   "cell_type": "code",
   "execution_count": 80,
   "id": "95b6ed14-2dd0-4946-a80e-a49a8cc2755b",
   "metadata": {},
   "outputs": [],
   "source": [
    "siamese_layer = L1Dist()"
   ]
  },
  {
   "cell_type": "code",
   "execution_count": 81,
   "id": "f211f30c-8c44-4f17-a907-061e24ed381f",
   "metadata": {},
   "outputs": [],
   "source": [
    "distances = siamese_layer(inp_embedding, val_embedding)"
   ]
  },
  {
   "cell_type": "code",
   "execution_count": 82,
   "id": "f76a82d1-19c1-4ffd-85d3-572ae8797bd9",
   "metadata": {},
   "outputs": [],
   "source": [
    "classifier = Dense(1, activation='sigmoid')(distances)"
   ]
  },
  {
   "cell_type": "code",
   "execution_count": 83,
   "id": "8a69d54a-823f-4f92-a23a-85f00069ef04",
   "metadata": {},
   "outputs": [],
   "source": [
    "siamese_network = Model(inputs=[input_image, validation_image], outputs=classifier, name='SiameseNetwork')"
   ]
  },
  {
   "cell_type": "code",
   "execution_count": 84,
   "id": "dce3ac0d-31ad-442e-b736-34de149c1d5d",
   "metadata": {},
   "outputs": [
    {
     "data": {
      "text/html": [
       "<pre style=\"white-space:pre;overflow-x:auto;line-height:normal;font-family:Menlo,'DejaVu Sans Mono',consolas,'Courier New',monospace\"><span style=\"font-weight: bold\">Model: \"SiameseNetwork\"</span>\n",
       "</pre>\n"
      ],
      "text/plain": [
       "\u001b[1mModel: \"SiameseNetwork\"\u001b[0m\n"
      ]
     },
     "metadata": {},
     "output_type": "display_data"
    },
    {
     "data": {
      "text/html": [
       "<pre style=\"white-space:pre;overflow-x:auto;line-height:normal;font-family:Menlo,'DejaVu Sans Mono',consolas,'Courier New',monospace\">┏━━━━━━━━━━━━━━━━━━━━━┳━━━━━━━━━━━━━━━━━━━┳━━━━━━━━━━━━┳━━━━━━━━━━━━━━━━━━━┓\n",
       "┃<span style=\"font-weight: bold\"> Layer (type)        </span>┃<span style=\"font-weight: bold\"> Output Shape      </span>┃<span style=\"font-weight: bold\">    Param # </span>┃<span style=\"font-weight: bold\"> Connected to      </span>┃\n",
       "┡━━━━━━━━━━━━━━━━━━━━━╇━━━━━━━━━━━━━━━━━━━╇━━━━━━━━━━━━╇━━━━━━━━━━━━━━━━━━━┩\n",
       "│ input_img           │ (<span style=\"color: #00d7ff; text-decoration-color: #00d7ff\">None</span>, <span style=\"color: #00af00; text-decoration-color: #00af00\">100</span>, <span style=\"color: #00af00; text-decoration-color: #00af00\">100</span>,  │          <span style=\"color: #00af00; text-decoration-color: #00af00\">0</span> │ -                 │\n",
       "│ (<span style=\"color: #0087ff; text-decoration-color: #0087ff\">InputLayer</span>)        │ <span style=\"color: #00af00; text-decoration-color: #00af00\">3</span>)                │            │                   │\n",
       "├─────────────────────┼───────────────────┼────────────┼───────────────────┤\n",
       "│ validation_img      │ (<span style=\"color: #00d7ff; text-decoration-color: #00d7ff\">None</span>, <span style=\"color: #00af00; text-decoration-color: #00af00\">100</span>, <span style=\"color: #00af00; text-decoration-color: #00af00\">100</span>,  │          <span style=\"color: #00af00; text-decoration-color: #00af00\">0</span> │ -                 │\n",
       "│ (<span style=\"color: #0087ff; text-decoration-color: #0087ff\">InputLayer</span>)        │ <span style=\"color: #00af00; text-decoration-color: #00af00\">3</span>)                │            │                   │\n",
       "├─────────────────────┼───────────────────┼────────────┼───────────────────┤\n",
       "│ embedding           │ (<span style=\"color: #00d7ff; text-decoration-color: #00d7ff\">None</span>, <span style=\"color: #00af00; text-decoration-color: #00af00\">4096</span>)      │ <span style=\"color: #00af00; text-decoration-color: #00af00\">38,960,448</span> │ input_img[<span style=\"color: #00af00; text-decoration-color: #00af00\">0</span>][<span style=\"color: #00af00; text-decoration-color: #00af00\">0</span>],  │\n",
       "│ (<span style=\"color: #0087ff; text-decoration-color: #0087ff\">Functional</span>)        │                   │            │ validation_img[<span style=\"color: #00af00; text-decoration-color: #00af00\">0</span>… │\n",
       "├─────────────────────┼───────────────────┼────────────┼───────────────────┤\n",
       "│ l1_dist_8 (<span style=\"color: #0087ff; text-decoration-color: #0087ff\">L1Dist</span>)  │ (<span style=\"color: #00d7ff; text-decoration-color: #00d7ff\">None</span>, <span style=\"color: #00af00; text-decoration-color: #00af00\">4096</span>)      │          <span style=\"color: #00af00; text-decoration-color: #00af00\">0</span> │ embedding[<span style=\"color: #00af00; text-decoration-color: #00af00\">8</span>][<span style=\"color: #00af00; text-decoration-color: #00af00\">0</span>],  │\n",
       "│                     │                   │            │ embedding[<span style=\"color: #00af00; text-decoration-color: #00af00\">9</span>][<span style=\"color: #00af00; text-decoration-color: #00af00\">0</span>]   │\n",
       "├─────────────────────┼───────────────────┼────────────┼───────────────────┤\n",
       "│ dense_5 (<span style=\"color: #0087ff; text-decoration-color: #0087ff\">Dense</span>)     │ (<span style=\"color: #00d7ff; text-decoration-color: #00d7ff\">None</span>, <span style=\"color: #00af00; text-decoration-color: #00af00\">1</span>)         │      <span style=\"color: #00af00; text-decoration-color: #00af00\">4,097</span> │ l1_dist_8[<span style=\"color: #00af00; text-decoration-color: #00af00\">0</span>][<span style=\"color: #00af00; text-decoration-color: #00af00\">0</span>]   │\n",
       "└─────────────────────┴───────────────────┴────────────┴───────────────────┘\n",
       "</pre>\n"
      ],
      "text/plain": [
       "┏━━━━━━━━━━━━━━━━━━━━━┳━━━━━━━━━━━━━━━━━━━┳━━━━━━━━━━━━┳━━━━━━━━━━━━━━━━━━━┓\n",
       "┃\u001b[1m \u001b[0m\u001b[1mLayer (type)       \u001b[0m\u001b[1m \u001b[0m┃\u001b[1m \u001b[0m\u001b[1mOutput Shape     \u001b[0m\u001b[1m \u001b[0m┃\u001b[1m \u001b[0m\u001b[1m   Param #\u001b[0m\u001b[1m \u001b[0m┃\u001b[1m \u001b[0m\u001b[1mConnected to     \u001b[0m\u001b[1m \u001b[0m┃\n",
       "┡━━━━━━━━━━━━━━━━━━━━━╇━━━━━━━━━━━━━━━━━━━╇━━━━━━━━━━━━╇━━━━━━━━━━━━━━━━━━━┩\n",
       "│ input_img           │ (\u001b[38;5;45mNone\u001b[0m, \u001b[38;5;34m100\u001b[0m, \u001b[38;5;34m100\u001b[0m,  │          \u001b[38;5;34m0\u001b[0m │ -                 │\n",
       "│ (\u001b[38;5;33mInputLayer\u001b[0m)        │ \u001b[38;5;34m3\u001b[0m)                │            │                   │\n",
       "├─────────────────────┼───────────────────┼────────────┼───────────────────┤\n",
       "│ validation_img      │ (\u001b[38;5;45mNone\u001b[0m, \u001b[38;5;34m100\u001b[0m, \u001b[38;5;34m100\u001b[0m,  │          \u001b[38;5;34m0\u001b[0m │ -                 │\n",
       "│ (\u001b[38;5;33mInputLayer\u001b[0m)        │ \u001b[38;5;34m3\u001b[0m)                │            │                   │\n",
       "├─────────────────────┼───────────────────┼────────────┼───────────────────┤\n",
       "│ embedding           │ (\u001b[38;5;45mNone\u001b[0m, \u001b[38;5;34m4096\u001b[0m)      │ \u001b[38;5;34m38,960,448\u001b[0m │ input_img[\u001b[38;5;34m0\u001b[0m][\u001b[38;5;34m0\u001b[0m],  │\n",
       "│ (\u001b[38;5;33mFunctional\u001b[0m)        │                   │            │ validation_img[\u001b[38;5;34m0\u001b[0m… │\n",
       "├─────────────────────┼───────────────────┼────────────┼───────────────────┤\n",
       "│ l1_dist_8 (\u001b[38;5;33mL1Dist\u001b[0m)  │ (\u001b[38;5;45mNone\u001b[0m, \u001b[38;5;34m4096\u001b[0m)      │          \u001b[38;5;34m0\u001b[0m │ embedding[\u001b[38;5;34m8\u001b[0m][\u001b[38;5;34m0\u001b[0m],  │\n",
       "│                     │                   │            │ embedding[\u001b[38;5;34m9\u001b[0m][\u001b[38;5;34m0\u001b[0m]   │\n",
       "├─────────────────────┼───────────────────┼────────────┼───────────────────┤\n",
       "│ dense_5 (\u001b[38;5;33mDense\u001b[0m)     │ (\u001b[38;5;45mNone\u001b[0m, \u001b[38;5;34m1\u001b[0m)         │      \u001b[38;5;34m4,097\u001b[0m │ l1_dist_8[\u001b[38;5;34m0\u001b[0m][\u001b[38;5;34m0\u001b[0m]   │\n",
       "└─────────────────────┴───────────────────┴────────────┴───────────────────┘\n"
      ]
     },
     "metadata": {},
     "output_type": "display_data"
    },
    {
     "data": {
      "text/html": [
       "<pre style=\"white-space:pre;overflow-x:auto;line-height:normal;font-family:Menlo,'DejaVu Sans Mono',consolas,'Courier New',monospace\"><span style=\"font-weight: bold\"> Total params: </span><span style=\"color: #00af00; text-decoration-color: #00af00\">38,964,545</span> (148.64 MB)\n",
       "</pre>\n"
      ],
      "text/plain": [
       "\u001b[1m Total params: \u001b[0m\u001b[38;5;34m38,964,545\u001b[0m (148.64 MB)\n"
      ]
     },
     "metadata": {},
     "output_type": "display_data"
    },
    {
     "data": {
      "text/html": [
       "<pre style=\"white-space:pre;overflow-x:auto;line-height:normal;font-family:Menlo,'DejaVu Sans Mono',consolas,'Courier New',monospace\"><span style=\"font-weight: bold\"> Trainable params: </span><span style=\"color: #00af00; text-decoration-color: #00af00\">38,964,545</span> (148.64 MB)\n",
       "</pre>\n"
      ],
      "text/plain": [
       "\u001b[1m Trainable params: \u001b[0m\u001b[38;5;34m38,964,545\u001b[0m (148.64 MB)\n"
      ]
     },
     "metadata": {},
     "output_type": "display_data"
    },
    {
     "data": {
      "text/html": [
       "<pre style=\"white-space:pre;overflow-x:auto;line-height:normal;font-family:Menlo,'DejaVu Sans Mono',consolas,'Courier New',monospace\"><span style=\"font-weight: bold\"> Non-trainable params: </span><span style=\"color: #00af00; text-decoration-color: #00af00\">0</span> (0.00 B)\n",
       "</pre>\n"
      ],
      "text/plain": [
       "\u001b[1m Non-trainable params: \u001b[0m\u001b[38;5;34m0\u001b[0m (0.00 B)\n"
      ]
     },
     "metadata": {},
     "output_type": "display_data"
    }
   ],
   "source": [
    "siamese_network.summary()"
   ]
  },
  {
   "cell_type": "code",
   "execution_count": 65,
   "id": "08b4f086-d9fe-4389-ba7c-5e86c51c0e73",
   "metadata": {},
   "outputs": [],
   "source": [
    "def make_siamese_model(): \n",
    "    \n",
    "    # Anchor image input in the network\n",
    "    input_image = Input(name='input_img', shape=(100,100,3))\n",
    "    \n",
    "    # Validation image in the network \n",
    "    validation_image = Input(name='validation_img', shape=(100,100,3))\n",
    "    \n",
    "    # Combine siamese distance components\n",
    "    siamese_layer = L1Dist()\n",
    "    siamese_layer._name = 'distance'\n",
    "    distances = siamese_layer(embedding(input_image), embedding(validation_image))\n",
    "    \n",
    "    # Classification layer \n",
    "    classifier = Dense(1, activation='sigmoid')(distances)\n",
    "    \n",
    "    return Model(inputs=[input_image, validation_image], outputs=classifier, name='SiameseNetwork')"
   ]
  },
  {
   "cell_type": "code",
   "execution_count": 89,
   "id": "948ace52-5155-4167-a565-6ece0e80b483",
   "metadata": {},
   "outputs": [],
   "source": [
    "\n",
    "siamese_model = make_siamese_model()"
   ]
  },
  {
   "cell_type": "code",
   "execution_count": 67,
   "id": "8dca7fe5-1299-4122-ad2e-5e05af4a4c2b",
   "metadata": {},
   "outputs": [
    {
     "data": {
      "text/html": [
       "<pre style=\"white-space:pre;overflow-x:auto;line-height:normal;font-family:Menlo,'DejaVu Sans Mono',consolas,'Courier New',monospace\"><span style=\"font-weight: bold\">Model: \"SiameseNetwork\"</span>\n",
       "</pre>\n"
      ],
      "text/plain": [
       "\u001b[1mModel: \"SiameseNetwork\"\u001b[0m\n"
      ]
     },
     "metadata": {},
     "output_type": "display_data"
    },
    {
     "data": {
      "text/html": [
       "<pre style=\"white-space:pre;overflow-x:auto;line-height:normal;font-family:Menlo,'DejaVu Sans Mono',consolas,'Courier New',monospace\">┏━━━━━━━━━━━━━━━━━━━━━┳━━━━━━━━━━━━━━━━━━━┳━━━━━━━━━━━━┳━━━━━━━━━━━━━━━━━━━┓\n",
       "┃<span style=\"font-weight: bold\"> Layer (type)        </span>┃<span style=\"font-weight: bold\"> Output Shape      </span>┃<span style=\"font-weight: bold\">    Param # </span>┃<span style=\"font-weight: bold\"> Connected to      </span>┃\n",
       "┡━━━━━━━━━━━━━━━━━━━━━╇━━━━━━━━━━━━━━━━━━━╇━━━━━━━━━━━━╇━━━━━━━━━━━━━━━━━━━┩\n",
       "│ input_img           │ (<span style=\"color: #00d7ff; text-decoration-color: #00d7ff\">None</span>, <span style=\"color: #00af00; text-decoration-color: #00af00\">100</span>, <span style=\"color: #00af00; text-decoration-color: #00af00\">100</span>,  │          <span style=\"color: #00af00; text-decoration-color: #00af00\">0</span> │ -                 │\n",
       "│ (<span style=\"color: #0087ff; text-decoration-color: #0087ff\">InputLayer</span>)        │ <span style=\"color: #00af00; text-decoration-color: #00af00\">3</span>)                │            │                   │\n",
       "├─────────────────────┼───────────────────┼────────────┼───────────────────┤\n",
       "│ validation_img      │ (<span style=\"color: #00d7ff; text-decoration-color: #00d7ff\">None</span>, <span style=\"color: #00af00; text-decoration-color: #00af00\">100</span>, <span style=\"color: #00af00; text-decoration-color: #00af00\">100</span>,  │          <span style=\"color: #00af00; text-decoration-color: #00af00\">0</span> │ -                 │\n",
       "│ (<span style=\"color: #0087ff; text-decoration-color: #0087ff\">InputLayer</span>)        │ <span style=\"color: #00af00; text-decoration-color: #00af00\">3</span>)                │            │                   │\n",
       "├─────────────────────┼───────────────────┼────────────┼───────────────────┤\n",
       "│ embedding           │ (<span style=\"color: #00d7ff; text-decoration-color: #00d7ff\">None</span>, <span style=\"color: #00af00; text-decoration-color: #00af00\">4096</span>)      │ <span style=\"color: #00af00; text-decoration-color: #00af00\">38,960,448</span> │ input_img[<span style=\"color: #00af00; text-decoration-color: #00af00\">0</span>][<span style=\"color: #00af00; text-decoration-color: #00af00\">0</span>],  │\n",
       "│ (<span style=\"color: #0087ff; text-decoration-color: #0087ff\">Functional</span>)        │                   │            │ validation_img[<span style=\"color: #00af00; text-decoration-color: #00af00\">0</span>… │\n",
       "├─────────────────────┼───────────────────┼────────────┼───────────────────┤\n",
       "│ l1_dist_5 (<span style=\"color: #0087ff; text-decoration-color: #0087ff\">L1Dist</span>)  │ (<span style=\"color: #00d7ff; text-decoration-color: #00d7ff\">None</span>, <span style=\"color: #00af00; text-decoration-color: #00af00\">4096</span>)      │          <span style=\"color: #00af00; text-decoration-color: #00af00\">0</span> │ embedding[<span style=\"color: #00af00; text-decoration-color: #00af00\">6</span>][<span style=\"color: #00af00; text-decoration-color: #00af00\">0</span>],  │\n",
       "│                     │                   │            │ embedding[<span style=\"color: #00af00; text-decoration-color: #00af00\">7</span>][<span style=\"color: #00af00; text-decoration-color: #00af00\">0</span>]   │\n",
       "├─────────────────────┼───────────────────┼────────────┼───────────────────┤\n",
       "│ dense_4 (<span style=\"color: #0087ff; text-decoration-color: #0087ff\">Dense</span>)     │ (<span style=\"color: #00d7ff; text-decoration-color: #00d7ff\">None</span>, <span style=\"color: #00af00; text-decoration-color: #00af00\">1</span>)         │      <span style=\"color: #00af00; text-decoration-color: #00af00\">4,097</span> │ l1_dist_5[<span style=\"color: #00af00; text-decoration-color: #00af00\">0</span>][<span style=\"color: #00af00; text-decoration-color: #00af00\">0</span>]   │\n",
       "└─────────────────────┴───────────────────┴────────────┴───────────────────┘\n",
       "</pre>\n"
      ],
      "text/plain": [
       "┏━━━━━━━━━━━━━━━━━━━━━┳━━━━━━━━━━━━━━━━━━━┳━━━━━━━━━━━━┳━━━━━━━━━━━━━━━━━━━┓\n",
       "┃\u001b[1m \u001b[0m\u001b[1mLayer (type)       \u001b[0m\u001b[1m \u001b[0m┃\u001b[1m \u001b[0m\u001b[1mOutput Shape     \u001b[0m\u001b[1m \u001b[0m┃\u001b[1m \u001b[0m\u001b[1m   Param #\u001b[0m\u001b[1m \u001b[0m┃\u001b[1m \u001b[0m\u001b[1mConnected to     \u001b[0m\u001b[1m \u001b[0m┃\n",
       "┡━━━━━━━━━━━━━━━━━━━━━╇━━━━━━━━━━━━━━━━━━━╇━━━━━━━━━━━━╇━━━━━━━━━━━━━━━━━━━┩\n",
       "│ input_img           │ (\u001b[38;5;45mNone\u001b[0m, \u001b[38;5;34m100\u001b[0m, \u001b[38;5;34m100\u001b[0m,  │          \u001b[38;5;34m0\u001b[0m │ -                 │\n",
       "│ (\u001b[38;5;33mInputLayer\u001b[0m)        │ \u001b[38;5;34m3\u001b[0m)                │            │                   │\n",
       "├─────────────────────┼───────────────────┼────────────┼───────────────────┤\n",
       "│ validation_img      │ (\u001b[38;5;45mNone\u001b[0m, \u001b[38;5;34m100\u001b[0m, \u001b[38;5;34m100\u001b[0m,  │          \u001b[38;5;34m0\u001b[0m │ -                 │\n",
       "│ (\u001b[38;5;33mInputLayer\u001b[0m)        │ \u001b[38;5;34m3\u001b[0m)                │            │                   │\n",
       "├─────────────────────┼───────────────────┼────────────┼───────────────────┤\n",
       "│ embedding           │ (\u001b[38;5;45mNone\u001b[0m, \u001b[38;5;34m4096\u001b[0m)      │ \u001b[38;5;34m38,960,448\u001b[0m │ input_img[\u001b[38;5;34m0\u001b[0m][\u001b[38;5;34m0\u001b[0m],  │\n",
       "│ (\u001b[38;5;33mFunctional\u001b[0m)        │                   │            │ validation_img[\u001b[38;5;34m0\u001b[0m… │\n",
       "├─────────────────────┼───────────────────┼────────────┼───────────────────┤\n",
       "│ l1_dist_5 (\u001b[38;5;33mL1Dist\u001b[0m)  │ (\u001b[38;5;45mNone\u001b[0m, \u001b[38;5;34m4096\u001b[0m)      │          \u001b[38;5;34m0\u001b[0m │ embedding[\u001b[38;5;34m6\u001b[0m][\u001b[38;5;34m0\u001b[0m],  │\n",
       "│                     │                   │            │ embedding[\u001b[38;5;34m7\u001b[0m][\u001b[38;5;34m0\u001b[0m]   │\n",
       "├─────────────────────┼───────────────────┼────────────┼───────────────────┤\n",
       "│ dense_4 (\u001b[38;5;33mDense\u001b[0m)     │ (\u001b[38;5;45mNone\u001b[0m, \u001b[38;5;34m1\u001b[0m)         │      \u001b[38;5;34m4,097\u001b[0m │ l1_dist_5[\u001b[38;5;34m0\u001b[0m][\u001b[38;5;34m0\u001b[0m]   │\n",
       "└─────────────────────┴───────────────────┴────────────┴───────────────────┘\n"
      ]
     },
     "metadata": {},
     "output_type": "display_data"
    },
    {
     "data": {
      "text/html": [
       "<pre style=\"white-space:pre;overflow-x:auto;line-height:normal;font-family:Menlo,'DejaVu Sans Mono',consolas,'Courier New',monospace\"><span style=\"font-weight: bold\"> Total params: </span><span style=\"color: #00af00; text-decoration-color: #00af00\">38,964,545</span> (148.64 MB)\n",
       "</pre>\n"
      ],
      "text/plain": [
       "\u001b[1m Total params: \u001b[0m\u001b[38;5;34m38,964,545\u001b[0m (148.64 MB)\n"
      ]
     },
     "metadata": {},
     "output_type": "display_data"
    },
    {
     "data": {
      "text/html": [
       "<pre style=\"white-space:pre;overflow-x:auto;line-height:normal;font-family:Menlo,'DejaVu Sans Mono',consolas,'Courier New',monospace\"><span style=\"font-weight: bold\"> Trainable params: </span><span style=\"color: #00af00; text-decoration-color: #00af00\">38,964,545</span> (148.64 MB)\n",
       "</pre>\n"
      ],
      "text/plain": [
       "\u001b[1m Trainable params: \u001b[0m\u001b[38;5;34m38,964,545\u001b[0m (148.64 MB)\n"
      ]
     },
     "metadata": {},
     "output_type": "display_data"
    },
    {
     "data": {
      "text/html": [
       "<pre style=\"white-space:pre;overflow-x:auto;line-height:normal;font-family:Menlo,'DejaVu Sans Mono',consolas,'Courier New',monospace\"><span style=\"font-weight: bold\"> Non-trainable params: </span><span style=\"color: #00af00; text-decoration-color: #00af00\">0</span> (0.00 B)\n",
       "</pre>\n"
      ],
      "text/plain": [
       "\u001b[1m Non-trainable params: \u001b[0m\u001b[38;5;34m0\u001b[0m (0.00 B)\n"
      ]
     },
     "metadata": {},
     "output_type": "display_data"
    }
   ],
   "source": [
    "siamese_model.summary()"
   ]
  },
  {
   "cell_type": "markdown",
   "id": "d5f69e2d-f30b-4f3e-a4f3-60b84fb150e6",
   "metadata": {},
   "source": [
    "**Training**"
   ]
  },
  {
   "cell_type": "code",
   "execution_count": 68,
   "id": "770ecf7f-9186-4904-9692-7e16cbd29f07",
   "metadata": {},
   "outputs": [],
   "source": [
    "binary_cross_loss = tf.losses.BinaryCrossentropy()\n"
   ]
  },
  {
   "cell_type": "code",
   "execution_count": 69,
   "id": "640eedf4-572d-4198-82bf-c25a8a798d3f",
   "metadata": {},
   "outputs": [],
   "source": [
    "opt = tf.keras.optimizers.Adam(1e-4) # 0.0001"
   ]
  },
  {
   "cell_type": "markdown",
   "id": "684cb8e4-3a95-49c7-bd91-4421e93e60b3",
   "metadata": {},
   "source": [
    "**Checkpoints**"
   ]
  },
  {
   "cell_type": "code",
   "execution_count": 46,
   "id": "45119537-5aca-46a3-b333-83b06556372a",
   "metadata": {},
   "outputs": [],
   "source": [
    "checkpoint_dir = './training_checkpoints'\n",
    "checkpoint_prefix = os.path.join(checkpoint_dir, 'ckpt')\n",
    "checkpoint = tf.train.Checkpoint(opt=opt, siamese_model=siamese_model)"
   ]
  },
  {
   "cell_type": "markdown",
   "id": "83295091-e4f5-470c-a767-a7e2b2b36a71",
   "metadata": {},
   "source": [
    "**Build Train Step Function**"
   ]
  },
  {
   "cell_type": "code",
   "execution_count": 70,
   "id": "73a28e59-646f-44d6-a9e7-03acafce5de7",
   "metadata": {},
   "outputs": [],
   "source": [
    "@tf.function\n",
    "def train_step(batch):\n",
    "    \n",
    "    # Record all of our operations \n",
    "    with tf.GradientTape() as tape:     \n",
    "        # Get anchor and positive/negative image\n",
    "        X = batch[:2]\n",
    "        # Get label\n",
    "        y = batch[2]\n",
    "        \n",
    "        # Forward pass\n",
    "        yhat = siamese_model(X, training=True)\n",
    "        # Calculate loss\n",
    "        loss = binary_cross_loss(y, yhat)\n",
    "    print(loss)\n",
    "        \n",
    "    # Calculate gradients\n",
    "    grad = tape.gradient(loss, siamese_model.trainable_variables)\n",
    "    \n",
    "    # Calculate updated weights and apply to siamese model\n",
    "    opt.apply_gradients(zip(grad, siamese_model.trainable_variables))\n",
    "    \n",
    "    # Return loss\n",
    "    return loss"
   ]
  },
  {
   "cell_type": "markdown",
   "id": "4b0edf63-da08-4f38-b115-e1287f58e447",
   "metadata": {},
   "source": [
    "**Build Training Loop**"
   ]
  },
  {
   "cell_type": "code",
   "execution_count": 71,
   "id": "c22192f5-617c-4c1b-955a-1779f1ff95d1",
   "metadata": {},
   "outputs": [],
   "source": [
    "def train(data, EPOCHS):\n",
    "    # Loop through epochs\n",
    "    for epoch in range(1, EPOCHS+1):\n",
    "        print('\\n Epoch {}/{}'.format(epoch, EPOCHS))\n",
    "        progbar = tf.keras.utils.Progbar(len(data))\n",
    "        \n",
    "        # Loop through each batch\n",
    "        for idx, batch in enumerate(data):\n",
    "            # Run train step here\n",
    "            train_step(batch)\n",
    "            progbar.update(idx+1)\n",
    "        \n",
    "        # Save checkpoints\n",
    "        if epoch % 10 == 0: \n",
    "            checkpoint.save(file_prefix=checkpoint_prefix)"
   ]
  },
  {
   "cell_type": "markdown",
   "id": "cc524309-26fe-4f1b-a84a-c9e4a9a9ce9a",
   "metadata": {},
   "source": [
    "**Training the model**"
   ]
  },
  {
   "cell_type": "code",
   "execution_count": 49,
   "id": "bb0fbcbc-7ed2-47d3-9c95-34eb3c3a6c14",
   "metadata": {},
   "outputs": [],
   "source": [
    "EPOCHS = 40"
   ]
  },
  {
   "cell_type": "code",
   "execution_count": 50,
   "id": "2d94cfc2-5a91-4678-b337-f8919ecc960f",
   "metadata": {},
   "outputs": [
    {
     "name": "stdout",
     "output_type": "stream",
     "text": [
      "\n",
      " Epoch 1/40\n",
      "Tensor(\"binary_crossentropy/weighted_loss/value:0\", shape=(), dtype=float32)\n",
      "Tensor(\"binary_crossentropy/weighted_loss/value:0\", shape=(), dtype=float32)\n"
     ]
    },
    {
     "name": "stderr",
     "output_type": "stream",
     "text": [
      "2024-08-09 23:37:11.116576: I external/local_xla/xla/stream_executor/cuda/cuda_dnn.cc:454] Loaded cuDNN version 8904\n",
      "2024-08-09 23:37:11.287551: I external/local_tsl/tsl/platform/default/subprocess.cc:304] Start cannot spawn child process: No such file or directory\n",
      "2024-08-09 23:37:13.032454: I external/local_xla/xla/service/service.cc:168] XLA service 0x712837b44a30 initialized for platform CUDA (this does not guarantee that XLA will be used). Devices:\n",
      "2024-08-09 23:37:13.032493: I external/local_xla/xla/service/service.cc:176]   StreamExecutor device (0): NVIDIA GeForce RTX 3060 Laptop GPU, Compute Capability 8.6\n",
      "2024-08-09 23:37:13.040639: I tensorflow/compiler/mlir/tensorflow/utils/dump_mlir_util.cc:269] disabling MLIR crash reproducer, set env var `MLIR_CRASH_REPRODUCER_DIRECTORY` to enable.\n",
      "WARNING: All log messages before absl::InitializeLog() is called are written to STDERR\n",
      "I0000 00:00:1723226833.124982   15802 device_compiler.h:186] Compiled cluster using XLA!  This line is logged at most once for the lifetime of the process.\n"
     ]
    },
    {
     "name": "stdout",
     "output_type": "stream",
     "text": [
      "30/31 [============================>.] - ETA: 0sTensor(\"binary_crossentropy/weighted_loss/value:0\", shape=(), dtype=float32)\n",
      "31/31 [==============================] - 7s 71ms/step\n",
      "\n",
      " Epoch 2/40\n",
      "31/31 [==============================] - 1s 30ms/step\n",
      "\n",
      " Epoch 3/40\n",
      "31/31 [==============================] - 1s 30ms/step\n",
      "\n",
      " Epoch 4/40\n",
      "31/31 [==============================] - 1s 30ms/step\n",
      "\n",
      " Epoch 5/40\n",
      "31/31 [==============================] - 1s 30ms/step\n",
      "\n",
      " Epoch 6/40\n",
      "31/31 [==============================] - 1s 30ms/step\n",
      "\n",
      " Epoch 7/40\n",
      "31/31 [==============================] - 1s 30ms/step\n",
      "\n",
      " Epoch 8/40\n",
      "31/31 [==============================] - 1s 30ms/step\n",
      "\n",
      " Epoch 9/40\n",
      "31/31 [==============================] - 1s 30ms/step\n",
      "\n",
      " Epoch 10/40\n",
      "31/31 [==============================] - 1s 30ms/step\n"
     ]
    },
    {
     "name": "stderr",
     "output_type": "stream",
     "text": [
      "2024-08-09 23:37:25.810186: W external/local_tsl/tsl/framework/cpu_allocator_impl.cc:83] Allocation of 150994944 exceeds 10% of free system memory.\n",
      "2024-08-09 23:37:25.886901: W external/local_tsl/tsl/framework/cpu_allocator_impl.cc:83] Allocation of 150994944 exceeds 10% of free system memory.\n",
      "2024-08-09 23:37:25.977317: W external/local_tsl/tsl/framework/cpu_allocator_impl.cc:83] Allocation of 150994944 exceeds 10% of free system memory.\n"
     ]
    },
    {
     "name": "stdout",
     "output_type": "stream",
     "text": [
      "\n",
      " Epoch 11/40\n",
      "31/31 [==============================] - 1s 30ms/step\n",
      "\n",
      " Epoch 12/40\n",
      "31/31 [==============================] - 1s 30ms/step\n",
      "\n",
      " Epoch 13/40\n",
      "31/31 [==============================] - 1s 30ms/step\n",
      "\n",
      " Epoch 14/40\n",
      "31/31 [==============================] - 1s 30ms/step\n",
      "\n",
      " Epoch 15/40\n",
      "31/31 [==============================] - 1s 30ms/step\n",
      "\n",
      " Epoch 16/40\n",
      "31/31 [==============================] - 1s 30ms/step\n",
      "\n",
      " Epoch 17/40\n",
      "31/31 [==============================] - 1s 30ms/step\n",
      "\n",
      " Epoch 18/40\n",
      "31/31 [==============================] - 1s 30ms/step\n",
      "\n",
      " Epoch 19/40\n",
      "31/31 [==============================] - 1s 30ms/step\n",
      "\n",
      " Epoch 20/40\n",
      "31/31 [==============================] - 1s 30ms/step\n"
     ]
    },
    {
     "name": "stderr",
     "output_type": "stream",
     "text": [
      "2024-08-09 23:37:35.978992: W external/local_tsl/tsl/framework/cpu_allocator_impl.cc:83] Allocation of 150994944 exceeds 10% of free system memory.\n",
      "2024-08-09 23:37:36.050911: W external/local_tsl/tsl/framework/cpu_allocator_impl.cc:83] Allocation of 150994944 exceeds 10% of free system memory.\n"
     ]
    },
    {
     "name": "stdout",
     "output_type": "stream",
     "text": [
      "\n",
      " Epoch 21/40\n",
      "31/31 [==============================] - 1s 30ms/step\n",
      "\n",
      " Epoch 22/40\n",
      "31/31 [==============================] - 1s 30ms/step\n",
      "\n",
      " Epoch 23/40\n",
      "31/31 [==============================] - 1s 30ms/step\n",
      "\n",
      " Epoch 24/40\n",
      "31/31 [==============================] - 1s 30ms/step\n",
      "\n",
      " Epoch 25/40\n",
      "31/31 [==============================] - 1s 30ms/step\n",
      "\n",
      " Epoch 26/40\n",
      "31/31 [==============================] - 1s 30ms/step\n",
      "\n",
      " Epoch 27/40\n",
      "31/31 [==============================] - 1s 30ms/step\n",
      "\n",
      " Epoch 28/40\n",
      "31/31 [==============================] - 1s 30ms/step\n",
      "\n",
      " Epoch 29/40\n",
      "31/31 [==============================] - 1s 30ms/step\n",
      "\n",
      " Epoch 30/40\n",
      "31/31 [==============================] - 1s 30ms/step\n",
      "\n",
      " Epoch 31/40\n",
      "31/31 [==============================] - 1s 30ms/step\n",
      "\n",
      " Epoch 32/40\n",
      "31/31 [==============================] - 1s 30ms/step\n",
      "\n",
      " Epoch 33/40\n",
      "31/31 [==============================] - 1s 30ms/step\n",
      "\n",
      " Epoch 34/40\n",
      "31/31 [==============================] - 1s 30ms/step\n",
      "\n",
      " Epoch 35/40\n",
      "31/31 [==============================] - 1s 30ms/step\n",
      "\n",
      " Epoch 36/40\n",
      "31/31 [==============================] - 1s 30ms/step\n",
      "\n",
      " Epoch 37/40\n",
      "31/31 [==============================] - 1s 30ms/step\n",
      "\n",
      " Epoch 38/40\n",
      "31/31 [==============================] - 1s 30ms/step\n",
      "\n",
      " Epoch 39/40\n",
      "31/31 [==============================] - 1s 30ms/step\n",
      "\n",
      " Epoch 40/40\n",
      "31/31 [==============================] - 1s 30ms/step\n"
     ]
    }
   ],
   "source": [
    "train(train_data, EPOCHS)"
   ]
  },
  {
   "cell_type": "code",
   "execution_count": 44,
   "id": "0fd3e9a7",
   "metadata": {},
   "outputs": [],
   "source": [
    "# Get a batch of test data\n",
    "test_input, test_val, y_true = test_data.as_numpy_iterator().next()"
   ]
  },
  {
   "cell_type": "code",
   "execution_count": 45,
   "id": "a299db57",
   "metadata": {},
   "outputs": [
    {
     "name": "stdout",
     "output_type": "stream",
     "text": [
      "\u001b[1m1/1\u001b[0m \u001b[32m━━━━━━━━━━━━━━━━━━━━\u001b[0m\u001b[37m\u001b[0m \u001b[1m0s\u001b[0m 439ms/step\n"
     ]
    }
   ],
   "source": [
    "y_hat = siamese_model.predict([test_input, test_val])"
   ]
  },
  {
   "cell_type": "code",
   "execution_count": 46,
   "id": "e5dd3ebe",
   "metadata": {},
   "outputs": [
    {
     "data": {
      "text/plain": [
       "[1, 1, 0, 0, 1, 0, 1, 0, 1, 1, 1, 0, 0, 0, 0, 1]"
      ]
     },
     "execution_count": 46,
     "metadata": {},
     "output_type": "execute_result"
    }
   ],
   "source": [
    "# Post processing the results \n",
    "[1 if prediction > 0.5 else 0 for prediction in y_hat ]"
   ]
  },
  {
   "cell_type": "code",
   "execution_count": 47,
   "id": "ff414ee9",
   "metadata": {},
   "outputs": [],
   "source": [
    "from tensorflow.keras.metrics import Precision,Recall"
   ]
  },
  {
   "cell_type": "code",
   "execution_count": 48,
   "id": "b86eba71",
   "metadata": {},
   "outputs": [
    {
     "data": {
      "text/plain": [
       "0.33333334"
      ]
     },
     "execution_count": 48,
     "metadata": {},
     "output_type": "execute_result"
    }
   ],
   "source": [
    "# Creating a metric object \n",
    "m = Recall()\n",
    "\n",
    "# Calculating the recall value \n",
    "m.update_state(y_true, y_hat)\n",
    "\n",
    "# Return Recall Result\n",
    "m.result().numpy()"
   ]
  },
  {
   "cell_type": "code",
   "execution_count": 49,
   "id": "2137f9f8",
   "metadata": {},
   "outputs": [
    {
     "data": {
      "text/plain": [
       "0.25"
      ]
     },
     "execution_count": 49,
     "metadata": {},
     "output_type": "execute_result"
    }
   ],
   "source": [
    "# Creating a metric object \n",
    "m = Precision()\n",
    "\n",
    "# Calculating the recall value \n",
    "m.update_state(y_true, y_hat)\n",
    "\n",
    "# Return Recall Result\n",
    "m.result().numpy()"
   ]
  },
  {
   "cell_type": "code",
   "execution_count": 50,
   "id": "9e345d28",
   "metadata": {},
   "outputs": [
    {
     "data": {
      "image/png": "[encoded data removed]",
      "text/plain": [
       "<Figure size 1000x800 with 2 Axes>"
      ]
     },
     "metadata": {},
     "output_type": "display_data"
    }
   ],
   "source": [
    "# Set plot size \n",
    "plt.figure(figsize=(10,8))\n",
    "\n",
    "# Set first subplot\n",
    "plt.subplot(1,2,1)\n",
    "plt.imshow(test_input[0])\n",
    "\n",
    "# Set second subplot\n",
    "plt.subplot(1,2,2)\n",
    "plt.imshow(test_val[0])\n",
    "\n",
    "# Renders cleanly\n",
    "plt.show()"
   ]
  },
  {
   "cell_type": "code",
   "execution_count": 60,
   "id": "a7b74171",
   "metadata": {},
   "outputs": [
    {
     "name": "stdout",
     "output_type": "stream",
     "text": [
      "WARNING:tensorflow:Compiled the loaded model, but the compiled metrics have yet to be built. `model.compile_metrics` will be empty until you train or evaluate the model.\n"
     ]
    },
    {
     "name": "stderr",
     "output_type": "stream",
     "text": [
      "/home/niranjan/miniconda3/envs/tensor/lib/python3.11/site-packages/keras/src/engine/training.py:3103: UserWarning: You are saving your model as an HDF5 file via `model.save()`. This file format is considered legacy. We recommend using instead the native Keras format, e.g. `model.save('my_model.keras')`.\n",
      "  saving_api.save_model(\n"
     ]
    }
   ],
   "source": [
    "# Save weights\n",
    "siamese_model.save('siamesemodelv2.h5')"
   ]
  },
  {
   "cell_type": "code",
   "execution_count": 90,
   "id": "fa2eb471-93c3-4efb-8b6e-a11bc0bbb384",
   "metadata": {},
   "outputs": [],
   "source": [
    "model=siamese_model\n",
    "model.load_weights('siamesemodelv2.h5')\n"
   ]
  },
  {
   "cell_type": "code",
   "execution_count": 91,
   "id": "3391134b-28e8-4d8d-b126-ddac629ea8e0",
   "metadata": {},
   "outputs": [],
   "source": [
    "# Get a batch of test data\n",
    "test_input, test_val, y_true = test_data.as_numpy_iterator().next()"
   ]
  },
  {
   "cell_type": "code",
   "execution_count": 92,
   "id": "5b796379-e622-4f6c-8286-fbeed074e08c",
   "metadata": {},
   "outputs": [
    {
     "name": "stdout",
     "output_type": "stream",
     "text": [
      "\u001b[1m1/1\u001b[0m \u001b[32m━━━━━━━━━━━━━━━━━━━━\u001b[0m\u001b[37m\u001b[0m \u001b[1m0s\u001b[0m 434ms/step\n"
     ]
    }
   ],
   "source": [
    "y_hat = model.predict([test_input, test_val])"
   ]
  },
  {
   "cell_type": "code",
   "execution_count": 93,
   "id": "51649617-264c-4f05-a0c2-f9f6fe46fde1",
   "metadata": {},
   "outputs": [
    {
     "data": {
      "text/plain": [
       "[0, 1, 1, 1, 0, 1, 0, 0, 0, 0, 0, 1, 0, 0, 0, 1]"
      ]
     },
     "execution_count": 93,
     "metadata": {},
     "output_type": "execute_result"
    }
   ],
   "source": [
    "# Post processing the results \n",
    "[1 if prediction > 0.5 else 0 for prediction in y_hat ]"
   ]
  },
  {
   "cell_type": "code",
   "execution_count": 94,
   "id": "7ec917a7-6807-45d6-81ce-2679a339df0b",
   "metadata": {},
   "outputs": [
    {
     "data": {
      "text/plain": [
       "1.0"
      ]
     },
     "execution_count": 94,
     "metadata": {},
     "output_type": "execute_result"
    }
   ],
   "source": [
    "# Creating a metric object \n",
    "m = Recall()\n",
    "\n",
    "# Calculating the recall value \n",
    "m.update_state(y_true, y_hat)\n",
    "\n",
    "# Return Recall Result\n",
    "m.result().numpy()"
   ]
  },
  {
   "cell_type": "code",
   "execution_count": 95,
   "id": "68ac5dd0-78dd-4491-9534-0f3a5cc1bdb6",
   "metadata": {},
   "outputs": [
    {
     "data": {
      "text/plain": [
       "1.0"
      ]
     },
     "execution_count": 95,
     "metadata": {},
     "output_type": "execute_result"
    }
   ],
   "source": [
    "# Creating a metric object \n",
    "m = Precision()\n",
    "\n",
    "# Calculating the recall value \n",
    "m.update_state(y_true, y_hat)\n",
    "\n",
    "# Return Recall Result\n",
    "m.result().numpy()"
   ]
  },
  {
   "cell_type": "code",
   "execution_count": 96,
   "id": "9de5be40-b6b4-4b92-b4c0-49c5fc442b01",
   "metadata": {},
   "outputs": [
    {
     "data": {
      "image/png": "[encoded data removed]",
      "text/plain": [
       "<Figure size 1000x800 with 2 Axes>"
      ]
     },
     "metadata": {},
     "output_type": "display_data"
    }
   ],
   "source": [
    "# Set plot size \n",
    "plt.figure(figsize=(10,8))\n",
    "\n",
    "# Set first subplot\n",
    "plt.subplot(1,2,1)\n",
    "plt.imshow(test_input[0])\n",
    "\n",
    "# Set second subplot\n",
    "plt.subplot(1,2,2)\n",
    "plt.imshow(test_val[0])\n",
    "\n",
    "# Renders cleanly\n",
    "plt.show()"
   ]
  },
  {
   "cell_type": "code",
   "execution_count": null,
   "id": "bbde5e36-b980-472c-bcad-59396f484db1",
   "metadata": {},
   "outputs": [],
   "source": []
  }
 ],
 "metadata": {
  "kernelspec": {
   "display_name": "Python 3 (ipykernel)",
   "language": "python",
   "name": "python3"
  },
  "language_info": {
   "codemirror_mode": {
    "name": "ipython",
    "version": 3
   },
   "file_extension": ".py",
   "mimetype": "text/x-python",
   "name": "python",
   "nbconvert_exporter": "python",
   "pygments_lexer": "ipython3",
   "version": "3.12.4"
  }
 },
 "nbformat": 4,
 "nbformat_minor": 5
}
